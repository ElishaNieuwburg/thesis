{
 "cells": [
  {
   "attachments": {},
   "cell_type": "markdown",
   "metadata": {},
   "source": [
    "## Code for analyzing the results of the YOLOv5s model"
   ]
  },
  {
   "cell_type": "code",
   "execution_count": null,
   "metadata": {},
   "outputs": [],
   "source": [
    "import os\n",
    "import numpy as np\n",
    "import pandas as pd\n",
    "import plotly.graph_objects as go"
   ]
  },
  {
   "cell_type": "code",
   "execution_count": 3,
   "metadata": {},
   "outputs": [
    {
     "data": {
      "text/plain": [
       "Index(['               epoch', '      train/box_loss', '      train/obj_loss',\n",
       "       '      train/cls_loss', '   metrics/precision', '      metrics/recall',\n",
       "       '     metrics/mAP_0.5', 'metrics/mAP_0.5:0.95', '        val/box_loss',\n",
       "       '        val/obj_loss', '        val/cls_loss', '               x/lr0',\n",
       "       '               x/lr1', '               x/lr2'],\n",
       "      dtype='object')"
      ]
     },
     "execution_count": 3,
     "metadata": {},
     "output_type": "execute_result"
    }
   ],
   "source": [
    "# Read data\n",
    "data = pd.read_csv(os.path.join('experiments', 'aug_1_1000_32_80', 'results.csv'))\n",
    "data.columns"
   ]
  },
  {
   "cell_type": "code",
   "execution_count": 5,
   "metadata": {},
   "outputs": [
    {
     "name": "stdout",
     "output_type": "stream",
     "text": [
      "0      0\n",
      "1      1\n",
      "2      2\n",
      "3      3\n",
      "4      4\n",
      "      ..\n",
      "95    95\n",
      "96    96\n",
      "97    97\n",
      "98    98\n",
      "99    99\n",
      "Name:                epoch, Length: 100, dtype: int64\n",
      "0      0\n",
      "1      1\n",
      "2      2\n",
      "3      3\n",
      "4      4\n",
      "      ..\n",
      "95    95\n",
      "96    96\n",
      "97    97\n",
      "98    98\n",
      "99    99\n",
      "Name:                epoch, Length: 100, dtype: int64\n"
     ]
    },
    {
     "data": {
      "application/vnd.plotly.v1+json": {
       "config": {
        "plotlyServerURL": "https://plot.ly"
       },
       "data": [
        {
         "line": {
          "color": "#DEA0FD",
          "width": 2
         },
         "mode": "lines",
         "name": "mAP@.5",
         "type": "scatter",
         "y": [
          0.17209,
          0.34879,
          0.42178,
          0.62699,
          0.65965,
          0.63041,
          0.65482,
          0.72088,
          0.72218,
          0.70884,
          0.73387,
          0.74932,
          0.72611,
          0.73258,
          0.76366,
          0.77099,
          0.77459,
          0.79562,
          0.78867,
          0.7599,
          0.76243,
          0.74339,
          0.76464,
          0.77346,
          0.78996,
          0.75867,
          0.80261,
          0.78811,
          0.77984,
          0.79856,
          0.80977,
          0.79812,
          0.80632,
          0.795,
          0.81367,
          0.79758,
          0.81369,
          0.80145,
          0.78382,
          0.81708,
          0.81768,
          0.82166,
          0.80779,
          0.81532,
          0.8236,
          0.80385,
          0.8182,
          0.81505,
          0.81226,
          0.81856,
          0.81284,
          0.82974,
          0.82916,
          0.82043,
          0.82922,
          0.82293,
          0.83526,
          0.8284,
          0.84328,
          0.8297,
          0.81958,
          0.82457,
          0.82961,
          0.83327,
          0.82592,
          0.82964,
          0.83286,
          0.83199,
          0.83801,
          0.83978,
          0.8243,
          0.82633,
          0.82087,
          0.83621,
          0.83689,
          0.84097,
          0.83675,
          0.84069,
          0.83753,
          0.83729,
          0.83581,
          0.83367,
          0.83921,
          0.83797,
          0.83383,
          0.83943,
          0.83843,
          0.83992,
          0.84258,
          0.84007,
          0.83845,
          0.84088,
          0.83723,
          0.83976,
          0.84246,
          0.84244,
          0.84153,
          0.84223,
          0.84287,
          0.84244
         ]
        },
        {
         "line": {
          "color": "#AA0DFE",
          "width": 2
         },
         "mode": "lines",
         "name": "mAP@.5:.95",
         "type": "scatter",
         "y": [
          0.083406,
          0.16107,
          0.22509,
          0.28902,
          0.33481,
          0.3451,
          0.35156,
          0.36196,
          0.36346,
          0.38771,
          0.39296,
          0.45535,
          0.41613,
          0.45478,
          0.44347,
          0.45432,
          0.48409,
          0.49821,
          0.48259,
          0.46361,
          0.47987,
          0.44171,
          0.45506,
          0.48281,
          0.48773,
          0.45428,
          0.5106,
          0.50439,
          0.46474,
          0.51026,
          0.50684,
          0.50082,
          0.50747,
          0.50291,
          0.51756,
          0.49102,
          0.50285,
          0.51052,
          0.51861,
          0.52064,
          0.5236,
          0.5237,
          0.52111,
          0.53017,
          0.55727,
          0.53359,
          0.54159,
          0.53544,
          0.5238,
          0.53889,
          0.51597,
          0.53939,
          0.55159,
          0.53541,
          0.55411,
          0.54777,
          0.56443,
          0.55724,
          0.55716,
          0.55732,
          0.55886,
          0.56448,
          0.57059,
          0.57362,
          0.55522,
          0.56929,
          0.56359,
          0.55743,
          0.56495,
          0.58324,
          0.57138,
          0.56254,
          0.55651,
          0.5643,
          0.57531,
          0.57719,
          0.57221,
          0.57798,
          0.58147,
          0.58186,
          0.57461,
          0.58801,
          0.57163,
          0.57061,
          0.58011,
          0.58704,
          0.58356,
          0.58607,
          0.58537,
          0.58488,
          0.58449,
          0.58688,
          0.59103,
          0.59379,
          0.59176,
          0.59484,
          0.58438,
          0.58616,
          0.5914,
          0.58974
         ]
        }
       ],
       "layout": {
        "template": {
         "data": {
          "bar": [
           {
            "error_x": {
             "color": "#2a3f5f"
            },
            "error_y": {
             "color": "#2a3f5f"
            },
            "marker": {
             "line": {
              "color": "#E5ECF6",
              "width": 0.5
             },
             "pattern": {
              "fillmode": "overlay",
              "size": 10,
              "solidity": 0.2
             }
            },
            "type": "bar"
           }
          ],
          "barpolar": [
           {
            "marker": {
             "line": {
              "color": "#E5ECF6",
              "width": 0.5
             },
             "pattern": {
              "fillmode": "overlay",
              "size": 10,
              "solidity": 0.2
             }
            },
            "type": "barpolar"
           }
          ],
          "carpet": [
           {
            "aaxis": {
             "endlinecolor": "#2a3f5f",
             "gridcolor": "white",
             "linecolor": "white",
             "minorgridcolor": "white",
             "startlinecolor": "#2a3f5f"
            },
            "baxis": {
             "endlinecolor": "#2a3f5f",
             "gridcolor": "white",
             "linecolor": "white",
             "minorgridcolor": "white",
             "startlinecolor": "#2a3f5f"
            },
            "type": "carpet"
           }
          ],
          "choropleth": [
           {
            "colorbar": {
             "outlinewidth": 0,
             "ticks": ""
            },
            "type": "choropleth"
           }
          ],
          "contour": [
           {
            "colorbar": {
             "outlinewidth": 0,
             "ticks": ""
            },
            "colorscale": [
             [
              0,
              "#0d0887"
             ],
             [
              0.1111111111111111,
              "#46039f"
             ],
             [
              0.2222222222222222,
              "#7201a8"
             ],
             [
              0.3333333333333333,
              "#9c179e"
             ],
             [
              0.4444444444444444,
              "#bd3786"
             ],
             [
              0.5555555555555556,
              "#d8576b"
             ],
             [
              0.6666666666666666,
              "#ed7953"
             ],
             [
              0.7777777777777778,
              "#fb9f3a"
             ],
             [
              0.8888888888888888,
              "#fdca26"
             ],
             [
              1,
              "#f0f921"
             ]
            ],
            "type": "contour"
           }
          ],
          "contourcarpet": [
           {
            "colorbar": {
             "outlinewidth": 0,
             "ticks": ""
            },
            "type": "contourcarpet"
           }
          ],
          "heatmap": [
           {
            "colorbar": {
             "outlinewidth": 0,
             "ticks": ""
            },
            "colorscale": [
             [
              0,
              "#0d0887"
             ],
             [
              0.1111111111111111,
              "#46039f"
             ],
             [
              0.2222222222222222,
              "#7201a8"
             ],
             [
              0.3333333333333333,
              "#9c179e"
             ],
             [
              0.4444444444444444,
              "#bd3786"
             ],
             [
              0.5555555555555556,
              "#d8576b"
             ],
             [
              0.6666666666666666,
              "#ed7953"
             ],
             [
              0.7777777777777778,
              "#fb9f3a"
             ],
             [
              0.8888888888888888,
              "#fdca26"
             ],
             [
              1,
              "#f0f921"
             ]
            ],
            "type": "heatmap"
           }
          ],
          "heatmapgl": [
           {
            "colorbar": {
             "outlinewidth": 0,
             "ticks": ""
            },
            "colorscale": [
             [
              0,
              "#0d0887"
             ],
             [
              0.1111111111111111,
              "#46039f"
             ],
             [
              0.2222222222222222,
              "#7201a8"
             ],
             [
              0.3333333333333333,
              "#9c179e"
             ],
             [
              0.4444444444444444,
              "#bd3786"
             ],
             [
              0.5555555555555556,
              "#d8576b"
             ],
             [
              0.6666666666666666,
              "#ed7953"
             ],
             [
              0.7777777777777778,
              "#fb9f3a"
             ],
             [
              0.8888888888888888,
              "#fdca26"
             ],
             [
              1,
              "#f0f921"
             ]
            ],
            "type": "heatmapgl"
           }
          ],
          "histogram": [
           {
            "marker": {
             "pattern": {
              "fillmode": "overlay",
              "size": 10,
              "solidity": 0.2
             }
            },
            "type": "histogram"
           }
          ],
          "histogram2d": [
           {
            "colorbar": {
             "outlinewidth": 0,
             "ticks": ""
            },
            "colorscale": [
             [
              0,
              "#0d0887"
             ],
             [
              0.1111111111111111,
              "#46039f"
             ],
             [
              0.2222222222222222,
              "#7201a8"
             ],
             [
              0.3333333333333333,
              "#9c179e"
             ],
             [
              0.4444444444444444,
              "#bd3786"
             ],
             [
              0.5555555555555556,
              "#d8576b"
             ],
             [
              0.6666666666666666,
              "#ed7953"
             ],
             [
              0.7777777777777778,
              "#fb9f3a"
             ],
             [
              0.8888888888888888,
              "#fdca26"
             ],
             [
              1,
              "#f0f921"
             ]
            ],
            "type": "histogram2d"
           }
          ],
          "histogram2dcontour": [
           {
            "colorbar": {
             "outlinewidth": 0,
             "ticks": ""
            },
            "colorscale": [
             [
              0,
              "#0d0887"
             ],
             [
              0.1111111111111111,
              "#46039f"
             ],
             [
              0.2222222222222222,
              "#7201a8"
             ],
             [
              0.3333333333333333,
              "#9c179e"
             ],
             [
              0.4444444444444444,
              "#bd3786"
             ],
             [
              0.5555555555555556,
              "#d8576b"
             ],
             [
              0.6666666666666666,
              "#ed7953"
             ],
             [
              0.7777777777777778,
              "#fb9f3a"
             ],
             [
              0.8888888888888888,
              "#fdca26"
             ],
             [
              1,
              "#f0f921"
             ]
            ],
            "type": "histogram2dcontour"
           }
          ],
          "mesh3d": [
           {
            "colorbar": {
             "outlinewidth": 0,
             "ticks": ""
            },
            "type": "mesh3d"
           }
          ],
          "parcoords": [
           {
            "line": {
             "colorbar": {
              "outlinewidth": 0,
              "ticks": ""
             }
            },
            "type": "parcoords"
           }
          ],
          "pie": [
           {
            "automargin": true,
            "type": "pie"
           }
          ],
          "scatter": [
           {
            "fillpattern": {
             "fillmode": "overlay",
             "size": 10,
             "solidity": 0.2
            },
            "type": "scatter"
           }
          ],
          "scatter3d": [
           {
            "line": {
             "colorbar": {
              "outlinewidth": 0,
              "ticks": ""
             }
            },
            "marker": {
             "colorbar": {
              "outlinewidth": 0,
              "ticks": ""
             }
            },
            "type": "scatter3d"
           }
          ],
          "scattercarpet": [
           {
            "marker": {
             "colorbar": {
              "outlinewidth": 0,
              "ticks": ""
             }
            },
            "type": "scattercarpet"
           }
          ],
          "scattergeo": [
           {
            "marker": {
             "colorbar": {
              "outlinewidth": 0,
              "ticks": ""
             }
            },
            "type": "scattergeo"
           }
          ],
          "scattergl": [
           {
            "marker": {
             "colorbar": {
              "outlinewidth": 0,
              "ticks": ""
             }
            },
            "type": "scattergl"
           }
          ],
          "scattermapbox": [
           {
            "marker": {
             "colorbar": {
              "outlinewidth": 0,
              "ticks": ""
             }
            },
            "type": "scattermapbox"
           }
          ],
          "scatterpolar": [
           {
            "marker": {
             "colorbar": {
              "outlinewidth": 0,
              "ticks": ""
             }
            },
            "type": "scatterpolar"
           }
          ],
          "scatterpolargl": [
           {
            "marker": {
             "colorbar": {
              "outlinewidth": 0,
              "ticks": ""
             }
            },
            "type": "scatterpolargl"
           }
          ],
          "scatterternary": [
           {
            "marker": {
             "colorbar": {
              "outlinewidth": 0,
              "ticks": ""
             }
            },
            "type": "scatterternary"
           }
          ],
          "surface": [
           {
            "colorbar": {
             "outlinewidth": 0,
             "ticks": ""
            },
            "colorscale": [
             [
              0,
              "#0d0887"
             ],
             [
              0.1111111111111111,
              "#46039f"
             ],
             [
              0.2222222222222222,
              "#7201a8"
             ],
             [
              0.3333333333333333,
              "#9c179e"
             ],
             [
              0.4444444444444444,
              "#bd3786"
             ],
             [
              0.5555555555555556,
              "#d8576b"
             ],
             [
              0.6666666666666666,
              "#ed7953"
             ],
             [
              0.7777777777777778,
              "#fb9f3a"
             ],
             [
              0.8888888888888888,
              "#fdca26"
             ],
             [
              1,
              "#f0f921"
             ]
            ],
            "type": "surface"
           }
          ],
          "table": [
           {
            "cells": {
             "fill": {
              "color": "#EBF0F8"
             },
             "line": {
              "color": "white"
             }
            },
            "header": {
             "fill": {
              "color": "#C8D4E3"
             },
             "line": {
              "color": "white"
             }
            },
            "type": "table"
           }
          ]
         },
         "layout": {
          "annotationdefaults": {
           "arrowcolor": "#2a3f5f",
           "arrowhead": 0,
           "arrowwidth": 1
          },
          "autotypenumbers": "strict",
          "coloraxis": {
           "colorbar": {
            "outlinewidth": 0,
            "ticks": ""
           }
          },
          "colorscale": {
           "diverging": [
            [
             0,
             "#8e0152"
            ],
            [
             0.1,
             "#c51b7d"
            ],
            [
             0.2,
             "#de77ae"
            ],
            [
             0.3,
             "#f1b6da"
            ],
            [
             0.4,
             "#fde0ef"
            ],
            [
             0.5,
             "#f7f7f7"
            ],
            [
             0.6,
             "#e6f5d0"
            ],
            [
             0.7,
             "#b8e186"
            ],
            [
             0.8,
             "#7fbc41"
            ],
            [
             0.9,
             "#4d9221"
            ],
            [
             1,
             "#276419"
            ]
           ],
           "sequential": [
            [
             0,
             "#0d0887"
            ],
            [
             0.1111111111111111,
             "#46039f"
            ],
            [
             0.2222222222222222,
             "#7201a8"
            ],
            [
             0.3333333333333333,
             "#9c179e"
            ],
            [
             0.4444444444444444,
             "#bd3786"
            ],
            [
             0.5555555555555556,
             "#d8576b"
            ],
            [
             0.6666666666666666,
             "#ed7953"
            ],
            [
             0.7777777777777778,
             "#fb9f3a"
            ],
            [
             0.8888888888888888,
             "#fdca26"
            ],
            [
             1,
             "#f0f921"
            ]
           ],
           "sequentialminus": [
            [
             0,
             "#0d0887"
            ],
            [
             0.1111111111111111,
             "#46039f"
            ],
            [
             0.2222222222222222,
             "#7201a8"
            ],
            [
             0.3333333333333333,
             "#9c179e"
            ],
            [
             0.4444444444444444,
             "#bd3786"
            ],
            [
             0.5555555555555556,
             "#d8576b"
            ],
            [
             0.6666666666666666,
             "#ed7953"
            ],
            [
             0.7777777777777778,
             "#fb9f3a"
            ],
            [
             0.8888888888888888,
             "#fdca26"
            ],
            [
             1,
             "#f0f921"
            ]
           ]
          },
          "colorway": [
           "#636efa",
           "#EF553B",
           "#00cc96",
           "#ab63fa",
           "#FFA15A",
           "#19d3f3",
           "#FF6692",
           "#B6E880",
           "#FF97FF",
           "#FECB52"
          ],
          "font": {
           "color": "#2a3f5f"
          },
          "geo": {
           "bgcolor": "white",
           "lakecolor": "white",
           "landcolor": "#E5ECF6",
           "showlakes": true,
           "showland": true,
           "subunitcolor": "white"
          },
          "hoverlabel": {
           "align": "left"
          },
          "hovermode": "closest",
          "mapbox": {
           "style": "light"
          },
          "paper_bgcolor": "white",
          "plot_bgcolor": "#E5ECF6",
          "polar": {
           "angularaxis": {
            "gridcolor": "white",
            "linecolor": "white",
            "ticks": ""
           },
           "bgcolor": "#E5ECF6",
           "radialaxis": {
            "gridcolor": "white",
            "linecolor": "white",
            "ticks": ""
           }
          },
          "scene": {
           "xaxis": {
            "backgroundcolor": "#E5ECF6",
            "gridcolor": "white",
            "gridwidth": 2,
            "linecolor": "white",
            "showbackground": true,
            "ticks": "",
            "zerolinecolor": "white"
           },
           "yaxis": {
            "backgroundcolor": "#E5ECF6",
            "gridcolor": "white",
            "gridwidth": 2,
            "linecolor": "white",
            "showbackground": true,
            "ticks": "",
            "zerolinecolor": "white"
           },
           "zaxis": {
            "backgroundcolor": "#E5ECF6",
            "gridcolor": "white",
            "gridwidth": 2,
            "linecolor": "white",
            "showbackground": true,
            "ticks": "",
            "zerolinecolor": "white"
           }
          },
          "shapedefaults": {
           "line": {
            "color": "#2a3f5f"
           }
          },
          "ternary": {
           "aaxis": {
            "gridcolor": "white",
            "linecolor": "white",
            "ticks": ""
           },
           "baxis": {
            "gridcolor": "white",
            "linecolor": "white",
            "ticks": ""
           },
           "bgcolor": "#E5ECF6",
           "caxis": {
            "gridcolor": "white",
            "linecolor": "white",
            "ticks": ""
           }
          },
          "title": {
           "x": 0.05
          },
          "xaxis": {
           "automargin": true,
           "gridcolor": "white",
           "linecolor": "white",
           "ticks": "",
           "title": {
            "standoff": 15
           },
           "zerolinecolor": "white",
           "zerolinewidth": 2
          },
          "yaxis": {
           "automargin": true,
           "gridcolor": "white",
           "linecolor": "white",
           "ticks": "",
           "title": {
            "standoff": 15
           },
           "zerolinecolor": "white",
           "zerolinewidth": 2
          }
         }
        },
        "title": {
         "text": "YOLOv5s mAP augmented training 1 1000"
        },
        "xaxis": {
         "title": {
          "text": "Epoch"
         }
        },
        "yaxis": {
         "range": [
          0,
          1
         ],
         "title": {
          "text": "Mean Average Precision"
         }
        }
       }
      }
     },
     "metadata": {},
     "output_type": "display_data"
    }
   ],
   "source": [
    "# Plot the mAP for IOU 0.5 and average 0.5-0.95\n",
    "fig = go.Figure()\n",
    "fig.add_trace(go.Scatter(x=print(data['               epoch'])\n",
    ", y=data['     metrics/mAP_0.5'],\n",
    "                    mode='lines',\n",
    "                    name='mAP@.5', line=dict(color='#DEA0FD', width=2)))\n",
    "\n",
    "fig.add_trace(go.Scatter(x=print(data['               epoch'])\n",
    ", y=data['metrics/mAP_0.5:0.95'],\n",
    "                    mode='lines',\n",
    "                    name='mAP@.5:.95', line=dict(color='#AA0DFE', width=2)))\n",
    "\n",
    "fig.update_layout(\n",
    "    title_text='YOLOv5s mAP augmented training 1 1000',\n",
    "    yaxis_title_text='Mean Average Precision',\n",
    "    xaxis_title_text='Epoch'\n",
    ")\n",
    "fig.update_yaxes(range=[0, 1.0])\n",
    "\n",
    "fig.show()"
   ]
  },
  {
   "cell_type": "code",
   "execution_count": 6,
   "metadata": {},
   "outputs": [
    {
     "name": "stdout",
     "output_type": "stream",
     "text": [
      "0      0\n",
      "1      1\n",
      "2      2\n",
      "3      3\n",
      "4      4\n",
      "      ..\n",
      "95    95\n",
      "96    96\n",
      "97    97\n",
      "98    98\n",
      "99    99\n",
      "Name:                epoch, Length: 100, dtype: int64\n",
      "0      0\n",
      "1      1\n",
      "2      2\n",
      "3      3\n",
      "4      4\n",
      "      ..\n",
      "95    95\n",
      "96    96\n",
      "97    97\n",
      "98    98\n",
      "99    99\n",
      "Name:                epoch, Length: 100, dtype: int64\n",
      "0      0\n",
      "1      1\n",
      "2      2\n",
      "3      3\n",
      "4      4\n",
      "      ..\n",
      "95    95\n",
      "96    96\n",
      "97    97\n",
      "98    98\n",
      "99    99\n",
      "Name:                epoch, Length: 100, dtype: int64\n"
     ]
    },
    {
     "data": {
      "application/vnd.plotly.v1+json": {
       "config": {
        "plotlyServerURL": "https://plot.ly"
       },
       "data": [
        {
         "line": {
          "color": "#DEA0FD",
          "width": 2
         },
         "mode": "lines",
         "name": "Box loss",
         "type": "scatter",
         "y": [
          0.079431,
          0.065157,
          0.063627,
          0.055357,
          0.050854,
          0.050466,
          0.051017,
          0.04948,
          0.046651,
          0.045574,
          0.044673,
          0.045834,
          0.044217,
          0.044549,
          0.043219,
          0.042792,
          0.042729,
          0.041874,
          0.041463,
          0.042177,
          0.041697,
          0.043073,
          0.041439,
          0.04218,
          0.040201,
          0.041922,
          0.040058,
          0.039894,
          0.040359,
          0.040301,
          0.039427,
          0.040137,
          0.039262,
          0.040395,
          0.039264,
          0.039601,
          0.039722,
          0.039016,
          0.040117,
          0.039766,
          0.039214,
          0.039321,
          0.039582,
          0.039319,
          0.039224,
          0.039363,
          0.038711,
          0.038374,
          0.038511,
          0.038095,
          0.038657,
          0.037882,
          0.038369,
          0.038434,
          0.038609,
          0.038332,
          0.038443,
          0.038418,
          0.037765,
          0.03776,
          0.037742,
          0.037683,
          0.038086,
          0.037838,
          0.037461,
          0.038158,
          0.038242,
          0.037809,
          0.037685,
          0.03725,
          0.037597,
          0.037646,
          0.037829,
          0.037468,
          0.037343,
          0.037449,
          0.037225,
          0.037033,
          0.037251,
          0.036927,
          0.037292,
          0.037443,
          0.037199,
          0.037312,
          0.037119,
          0.037129,
          0.037325,
          0.036872,
          0.036778,
          0.037012,
          0.037261,
          0.037235,
          0.037267,
          0.03704,
          0.036909,
          0.037057,
          0.037173,
          0.037007,
          0.037007,
          0.037049
         ]
        },
        {
         "line": {
          "color": "#AA0DFE",
          "width": 2
         },
         "mode": "lines",
         "name": "Object loss",
         "type": "scatter",
         "y": [
          0.019501,
          0.018696,
          0.019897,
          0.02078,
          0.017699,
          0.017796,
          0.017917,
          0.017125,
          0.016628,
          0.016653,
          0.016516,
          0.016048,
          0.016214,
          0.015909,
          0.016389,
          0.015652,
          0.015679,
          0.015796,
          0.015593,
          0.015777,
          0.015751,
          0.016198,
          0.015352,
          0.015491,
          0.015347,
          0.015999,
          0.014975,
          0.015236,
          0.015113,
          0.015126,
          0.015048,
          0.01541,
          0.014928,
          0.015525,
          0.015214,
          0.015447,
          0.015331,
          0.015157,
          0.015267,
          0.015418,
          0.015008,
          0.015077,
          0.015133,
          0.015094,
          0.015127,
          0.014902,
          0.01493,
          0.015026,
          0.015338,
          0.014863,
          0.015166,
          0.01511,
          0.01484,
          0.015269,
          0.014978,
          0.014776,
          0.015093,
          0.015156,
          0.014763,
          0.015267,
          0.01497,
          0.015197,
          0.015221,
          0.015192,
          0.015227,
          0.015144,
          0.015176,
          0.015235,
          0.015099,
          0.015126,
          0.015143,
          0.015385,
          0.015307,
          0.015292,
          0.015182,
          0.015187,
          0.015161,
          0.015179,
          0.015356,
          0.015189,
          0.015201,
          0.015374,
          0.015174,
          0.015332,
          0.015381,
          0.015246,
          0.015245,
          0.015249,
          0.015106,
          0.015422,
          0.015377,
          0.015467,
          0.015599,
          0.0154,
          0.015352,
          0.015384,
          0.015371,
          0.015463,
          0.015506,
          0.015473
         ]
        },
        {
         "line": {
          "color": "#782AB6",
          "width": 2
         },
         "mode": "lines",
         "name": "Class loss",
         "type": "scatter",
         "y": [
          0.0057957,
          0.0036712,
          0.0036556,
          0.0032539,
          0.0024693,
          0.0022305,
          0.0023214,
          0.0020485,
          0.0019139,
          0.0017046,
          0.0016979,
          0.0022284,
          0.0019317,
          0.0016039,
          0.0016297,
          0.0016885,
          0.0015573,
          0.0015545,
          0.001753,
          0.0021465,
          0.0019065,
          0.0018769,
          0.0018799,
          0.0017312,
          0.0019848,
          0.0016907,
          0.0014225,
          0.0016568,
          0.0018874,
          0.0018563,
          0.0014319,
          0.0017242,
          0.0012781,
          0.0015794,
          0.0017016,
          0.0014438,
          0.001409,
          0.0014622,
          0.001689,
          0.0011612,
          0.0010651,
          0.0010418,
          0.0011144,
          0.0011517,
          0.0010423,
          0.0013753,
          0.0013457,
          0.0011648,
          0.0011944,
          0.00107,
          0.0012466,
          0.00076328,
          0.00094155,
          0.0013338,
          0.0010712,
          0.0012566,
          0.0010012,
          0.00090412,
          0.00096856,
          0.00085777,
          0.001006,
          0.0010355,
          0.00092618,
          0.00094548,
          0.0011173,
          0.0010059,
          0.0010978,
          0.0010858,
          0.00087153,
          0.00086608,
          0.00091305,
          0.0008061,
          0.0014057,
          0.0007899,
          0.00092844,
          0.00083314,
          0.00099793,
          0.00099163,
          0.00091649,
          0.00091638,
          0.00092108,
          0.0011108,
          0.0010718,
          0.00095955,
          0.0010993,
          0.00098049,
          0.001144,
          0.00099694,
          0.0010693,
          0.00098193,
          0.00097789,
          0.00089328,
          0.00093898,
          0.00094531,
          0.00099224,
          0.0010207,
          0.00098907,
          0.00097029,
          0.00096168,
          0.00090304
         ]
        }
       ],
       "layout": {
        "template": {
         "data": {
          "bar": [
           {
            "error_x": {
             "color": "#2a3f5f"
            },
            "error_y": {
             "color": "#2a3f5f"
            },
            "marker": {
             "line": {
              "color": "#E5ECF6",
              "width": 0.5
             },
             "pattern": {
              "fillmode": "overlay",
              "size": 10,
              "solidity": 0.2
             }
            },
            "type": "bar"
           }
          ],
          "barpolar": [
           {
            "marker": {
             "line": {
              "color": "#E5ECF6",
              "width": 0.5
             },
             "pattern": {
              "fillmode": "overlay",
              "size": 10,
              "solidity": 0.2
             }
            },
            "type": "barpolar"
           }
          ],
          "carpet": [
           {
            "aaxis": {
             "endlinecolor": "#2a3f5f",
             "gridcolor": "white",
             "linecolor": "white",
             "minorgridcolor": "white",
             "startlinecolor": "#2a3f5f"
            },
            "baxis": {
             "endlinecolor": "#2a3f5f",
             "gridcolor": "white",
             "linecolor": "white",
             "minorgridcolor": "white",
             "startlinecolor": "#2a3f5f"
            },
            "type": "carpet"
           }
          ],
          "choropleth": [
           {
            "colorbar": {
             "outlinewidth": 0,
             "ticks": ""
            },
            "type": "choropleth"
           }
          ],
          "contour": [
           {
            "colorbar": {
             "outlinewidth": 0,
             "ticks": ""
            },
            "colorscale": [
             [
              0,
              "#0d0887"
             ],
             [
              0.1111111111111111,
              "#46039f"
             ],
             [
              0.2222222222222222,
              "#7201a8"
             ],
             [
              0.3333333333333333,
              "#9c179e"
             ],
             [
              0.4444444444444444,
              "#bd3786"
             ],
             [
              0.5555555555555556,
              "#d8576b"
             ],
             [
              0.6666666666666666,
              "#ed7953"
             ],
             [
              0.7777777777777778,
              "#fb9f3a"
             ],
             [
              0.8888888888888888,
              "#fdca26"
             ],
             [
              1,
              "#f0f921"
             ]
            ],
            "type": "contour"
           }
          ],
          "contourcarpet": [
           {
            "colorbar": {
             "outlinewidth": 0,
             "ticks": ""
            },
            "type": "contourcarpet"
           }
          ],
          "heatmap": [
           {
            "colorbar": {
             "outlinewidth": 0,
             "ticks": ""
            },
            "colorscale": [
             [
              0,
              "#0d0887"
             ],
             [
              0.1111111111111111,
              "#46039f"
             ],
             [
              0.2222222222222222,
              "#7201a8"
             ],
             [
              0.3333333333333333,
              "#9c179e"
             ],
             [
              0.4444444444444444,
              "#bd3786"
             ],
             [
              0.5555555555555556,
              "#d8576b"
             ],
             [
              0.6666666666666666,
              "#ed7953"
             ],
             [
              0.7777777777777778,
              "#fb9f3a"
             ],
             [
              0.8888888888888888,
              "#fdca26"
             ],
             [
              1,
              "#f0f921"
             ]
            ],
            "type": "heatmap"
           }
          ],
          "heatmapgl": [
           {
            "colorbar": {
             "outlinewidth": 0,
             "ticks": ""
            },
            "colorscale": [
             [
              0,
              "#0d0887"
             ],
             [
              0.1111111111111111,
              "#46039f"
             ],
             [
              0.2222222222222222,
              "#7201a8"
             ],
             [
              0.3333333333333333,
              "#9c179e"
             ],
             [
              0.4444444444444444,
              "#bd3786"
             ],
             [
              0.5555555555555556,
              "#d8576b"
             ],
             [
              0.6666666666666666,
              "#ed7953"
             ],
             [
              0.7777777777777778,
              "#fb9f3a"
             ],
             [
              0.8888888888888888,
              "#fdca26"
             ],
             [
              1,
              "#f0f921"
             ]
            ],
            "type": "heatmapgl"
           }
          ],
          "histogram": [
           {
            "marker": {
             "pattern": {
              "fillmode": "overlay",
              "size": 10,
              "solidity": 0.2
             }
            },
            "type": "histogram"
           }
          ],
          "histogram2d": [
           {
            "colorbar": {
             "outlinewidth": 0,
             "ticks": ""
            },
            "colorscale": [
             [
              0,
              "#0d0887"
             ],
             [
              0.1111111111111111,
              "#46039f"
             ],
             [
              0.2222222222222222,
              "#7201a8"
             ],
             [
              0.3333333333333333,
              "#9c179e"
             ],
             [
              0.4444444444444444,
              "#bd3786"
             ],
             [
              0.5555555555555556,
              "#d8576b"
             ],
             [
              0.6666666666666666,
              "#ed7953"
             ],
             [
              0.7777777777777778,
              "#fb9f3a"
             ],
             [
              0.8888888888888888,
              "#fdca26"
             ],
             [
              1,
              "#f0f921"
             ]
            ],
            "type": "histogram2d"
           }
          ],
          "histogram2dcontour": [
           {
            "colorbar": {
             "outlinewidth": 0,
             "ticks": ""
            },
            "colorscale": [
             [
              0,
              "#0d0887"
             ],
             [
              0.1111111111111111,
              "#46039f"
             ],
             [
              0.2222222222222222,
              "#7201a8"
             ],
             [
              0.3333333333333333,
              "#9c179e"
             ],
             [
              0.4444444444444444,
              "#bd3786"
             ],
             [
              0.5555555555555556,
              "#d8576b"
             ],
             [
              0.6666666666666666,
              "#ed7953"
             ],
             [
              0.7777777777777778,
              "#fb9f3a"
             ],
             [
              0.8888888888888888,
              "#fdca26"
             ],
             [
              1,
              "#f0f921"
             ]
            ],
            "type": "histogram2dcontour"
           }
          ],
          "mesh3d": [
           {
            "colorbar": {
             "outlinewidth": 0,
             "ticks": ""
            },
            "type": "mesh3d"
           }
          ],
          "parcoords": [
           {
            "line": {
             "colorbar": {
              "outlinewidth": 0,
              "ticks": ""
             }
            },
            "type": "parcoords"
           }
          ],
          "pie": [
           {
            "automargin": true,
            "type": "pie"
           }
          ],
          "scatter": [
           {
            "fillpattern": {
             "fillmode": "overlay",
             "size": 10,
             "solidity": 0.2
            },
            "type": "scatter"
           }
          ],
          "scatter3d": [
           {
            "line": {
             "colorbar": {
              "outlinewidth": 0,
              "ticks": ""
             }
            },
            "marker": {
             "colorbar": {
              "outlinewidth": 0,
              "ticks": ""
             }
            },
            "type": "scatter3d"
           }
          ],
          "scattercarpet": [
           {
            "marker": {
             "colorbar": {
              "outlinewidth": 0,
              "ticks": ""
             }
            },
            "type": "scattercarpet"
           }
          ],
          "scattergeo": [
           {
            "marker": {
             "colorbar": {
              "outlinewidth": 0,
              "ticks": ""
             }
            },
            "type": "scattergeo"
           }
          ],
          "scattergl": [
           {
            "marker": {
             "colorbar": {
              "outlinewidth": 0,
              "ticks": ""
             }
            },
            "type": "scattergl"
           }
          ],
          "scattermapbox": [
           {
            "marker": {
             "colorbar": {
              "outlinewidth": 0,
              "ticks": ""
             }
            },
            "type": "scattermapbox"
           }
          ],
          "scatterpolar": [
           {
            "marker": {
             "colorbar": {
              "outlinewidth": 0,
              "ticks": ""
             }
            },
            "type": "scatterpolar"
           }
          ],
          "scatterpolargl": [
           {
            "marker": {
             "colorbar": {
              "outlinewidth": 0,
              "ticks": ""
             }
            },
            "type": "scatterpolargl"
           }
          ],
          "scatterternary": [
           {
            "marker": {
             "colorbar": {
              "outlinewidth": 0,
              "ticks": ""
             }
            },
            "type": "scatterternary"
           }
          ],
          "surface": [
           {
            "colorbar": {
             "outlinewidth": 0,
             "ticks": ""
            },
            "colorscale": [
             [
              0,
              "#0d0887"
             ],
             [
              0.1111111111111111,
              "#46039f"
             ],
             [
              0.2222222222222222,
              "#7201a8"
             ],
             [
              0.3333333333333333,
              "#9c179e"
             ],
             [
              0.4444444444444444,
              "#bd3786"
             ],
             [
              0.5555555555555556,
              "#d8576b"
             ],
             [
              0.6666666666666666,
              "#ed7953"
             ],
             [
              0.7777777777777778,
              "#fb9f3a"
             ],
             [
              0.8888888888888888,
              "#fdca26"
             ],
             [
              1,
              "#f0f921"
             ]
            ],
            "type": "surface"
           }
          ],
          "table": [
           {
            "cells": {
             "fill": {
              "color": "#EBF0F8"
             },
             "line": {
              "color": "white"
             }
            },
            "header": {
             "fill": {
              "color": "#C8D4E3"
             },
             "line": {
              "color": "white"
             }
            },
            "type": "table"
           }
          ]
         },
         "layout": {
          "annotationdefaults": {
           "arrowcolor": "#2a3f5f",
           "arrowhead": 0,
           "arrowwidth": 1
          },
          "autotypenumbers": "strict",
          "coloraxis": {
           "colorbar": {
            "outlinewidth": 0,
            "ticks": ""
           }
          },
          "colorscale": {
           "diverging": [
            [
             0,
             "#8e0152"
            ],
            [
             0.1,
             "#c51b7d"
            ],
            [
             0.2,
             "#de77ae"
            ],
            [
             0.3,
             "#f1b6da"
            ],
            [
             0.4,
             "#fde0ef"
            ],
            [
             0.5,
             "#f7f7f7"
            ],
            [
             0.6,
             "#e6f5d0"
            ],
            [
             0.7,
             "#b8e186"
            ],
            [
             0.8,
             "#7fbc41"
            ],
            [
             0.9,
             "#4d9221"
            ],
            [
             1,
             "#276419"
            ]
           ],
           "sequential": [
            [
             0,
             "#0d0887"
            ],
            [
             0.1111111111111111,
             "#46039f"
            ],
            [
             0.2222222222222222,
             "#7201a8"
            ],
            [
             0.3333333333333333,
             "#9c179e"
            ],
            [
             0.4444444444444444,
             "#bd3786"
            ],
            [
             0.5555555555555556,
             "#d8576b"
            ],
            [
             0.6666666666666666,
             "#ed7953"
            ],
            [
             0.7777777777777778,
             "#fb9f3a"
            ],
            [
             0.8888888888888888,
             "#fdca26"
            ],
            [
             1,
             "#f0f921"
            ]
           ],
           "sequentialminus": [
            [
             0,
             "#0d0887"
            ],
            [
             0.1111111111111111,
             "#46039f"
            ],
            [
             0.2222222222222222,
             "#7201a8"
            ],
            [
             0.3333333333333333,
             "#9c179e"
            ],
            [
             0.4444444444444444,
             "#bd3786"
            ],
            [
             0.5555555555555556,
             "#d8576b"
            ],
            [
             0.6666666666666666,
             "#ed7953"
            ],
            [
             0.7777777777777778,
             "#fb9f3a"
            ],
            [
             0.8888888888888888,
             "#fdca26"
            ],
            [
             1,
             "#f0f921"
            ]
           ]
          },
          "colorway": [
           "#636efa",
           "#EF553B",
           "#00cc96",
           "#ab63fa",
           "#FFA15A",
           "#19d3f3",
           "#FF6692",
           "#B6E880",
           "#FF97FF",
           "#FECB52"
          ],
          "font": {
           "color": "#2a3f5f"
          },
          "geo": {
           "bgcolor": "white",
           "lakecolor": "white",
           "landcolor": "#E5ECF6",
           "showlakes": true,
           "showland": true,
           "subunitcolor": "white"
          },
          "hoverlabel": {
           "align": "left"
          },
          "hovermode": "closest",
          "mapbox": {
           "style": "light"
          },
          "paper_bgcolor": "white",
          "plot_bgcolor": "#E5ECF6",
          "polar": {
           "angularaxis": {
            "gridcolor": "white",
            "linecolor": "white",
            "ticks": ""
           },
           "bgcolor": "#E5ECF6",
           "radialaxis": {
            "gridcolor": "white",
            "linecolor": "white",
            "ticks": ""
           }
          },
          "scene": {
           "xaxis": {
            "backgroundcolor": "#E5ECF6",
            "gridcolor": "white",
            "gridwidth": 2,
            "linecolor": "white",
            "showbackground": true,
            "ticks": "",
            "zerolinecolor": "white"
           },
           "yaxis": {
            "backgroundcolor": "#E5ECF6",
            "gridcolor": "white",
            "gridwidth": 2,
            "linecolor": "white",
            "showbackground": true,
            "ticks": "",
            "zerolinecolor": "white"
           },
           "zaxis": {
            "backgroundcolor": "#E5ECF6",
            "gridcolor": "white",
            "gridwidth": 2,
            "linecolor": "white",
            "showbackground": true,
            "ticks": "",
            "zerolinecolor": "white"
           }
          },
          "shapedefaults": {
           "line": {
            "color": "#2a3f5f"
           }
          },
          "ternary": {
           "aaxis": {
            "gridcolor": "white",
            "linecolor": "white",
            "ticks": ""
           },
           "baxis": {
            "gridcolor": "white",
            "linecolor": "white",
            "ticks": ""
           },
           "bgcolor": "#E5ECF6",
           "caxis": {
            "gridcolor": "white",
            "linecolor": "white",
            "ticks": ""
           }
          },
          "title": {
           "x": 0.05
          },
          "xaxis": {
           "automargin": true,
           "gridcolor": "white",
           "linecolor": "white",
           "ticks": "",
           "title": {
            "standoff": 15
           },
           "zerolinecolor": "white",
           "zerolinewidth": 2
          },
          "yaxis": {
           "automargin": true,
           "gridcolor": "white",
           "linecolor": "white",
           "ticks": "",
           "title": {
            "standoff": 15
           },
           "zerolinecolor": "white",
           "zerolinewidth": 2
          }
         }
        },
        "title": {
         "text": "YOLOv5s loss augmented training 1 1000"
        },
        "xaxis": {
         "title": {
          "text": "Epoch"
         }
        },
        "yaxis": {
         "range": [
          0,
          0.1
         ],
         "title": {
          "text": "Loss"
         }
        }
       }
      }
     },
     "metadata": {},
     "output_type": "display_data"
    }
   ],
   "source": [
    "# Plot the box loss, object loss and classification loss of the validation set\n",
    "fig = go.Figure()\n",
    "fig.add_trace(go.Scatter(x=print(data['               epoch'])\n",
    ", y=data['        val/box_loss'],\n",
    "                    mode='lines',\n",
    "                    name='Box loss', line=dict(color='#DEA0FD', width=2)))\n",
    "\n",
    "fig.add_trace(go.Scatter(x=print(data['               epoch'])\n",
    ", y=data['        val/obj_loss'],\n",
    "                    mode='lines',\n",
    "                    name='Object loss', line=dict(color='#AA0DFE', width=2)))\n",
    "\n",
    "fig.add_trace(go.Scatter(x=print(data['               epoch'])\n",
    ", y=data['        val/cls_loss'],\n",
    "                    mode='lines',\n",
    "                    name='Class loss', line=dict(color='#782AB6', width=2)))\n",
    "\n",
    "fig.update_layout(\n",
    "    title_text='YOLOv5s loss augmented training 1 1000',\n",
    "    yaxis_title_text='Loss',\n",
    "    xaxis_title_text='Epoch'\n",
    ")\n",
    "fig.update_yaxes(range=[0, 0.1])\n",
    "\n",
    "fig.show()"
   ]
  },
  {
   "cell_type": "code",
   "execution_count": 8,
   "metadata": {},
   "outputs": [],
   "source": [
    "# Function for F1-score\n",
    "def F1(precision, recall):\n",
    "    return 2 * ((precision * recall) / (precision + recall))"
   ]
  },
  {
   "cell_type": "code",
   "execution_count": 9,
   "metadata": {},
   "outputs": [
    {
     "name": "stdout",
     "output_type": "stream",
     "text": [
      "0      0\n",
      "1      1\n",
      "2      2\n",
      "3      3\n",
      "4      4\n",
      "      ..\n",
      "95    95\n",
      "96    96\n",
      "97    97\n",
      "98    98\n",
      "99    99\n",
      "Name:                epoch, Length: 100, dtype: int64\n",
      "0      0\n",
      "1      1\n",
      "2      2\n",
      "3      3\n",
      "4      4\n",
      "      ..\n",
      "95    95\n",
      "96    96\n",
      "97    97\n",
      "98    98\n",
      "99    99\n",
      "Name:                epoch, Length: 100, dtype: int64\n",
      "0      0\n",
      "1      1\n",
      "2      2\n",
      "3      3\n",
      "4      4\n",
      "      ..\n",
      "95    95\n",
      "96    96\n",
      "97    97\n",
      "98    98\n",
      "99    99\n",
      "Name:                epoch, Length: 100, dtype: int64\n"
     ]
    },
    {
     "data": {
      "application/vnd.plotly.v1+json": {
       "config": {
        "plotlyServerURL": "https://plot.ly"
       },
       "data": [
        {
         "line": {
          "color": "#DEA0FD",
          "width": 2
         },
         "mode": "lines",
         "name": "Precision",
         "type": "scatter",
         "y": [
          0.22603,
          0.39091,
          0.54242,
          0.59567,
          0.70072,
          0.67411,
          0.71996,
          0.79172,
          0.72358,
          0.74466,
          0.7446,
          0.77068,
          0.72218,
          0.75435,
          0.73408,
          0.79542,
          0.79947,
          0.79817,
          0.83552,
          0.73984,
          0.80396,
          0.76265,
          0.76248,
          0.79044,
          0.82104,
          0.75522,
          0.79821,
          0.813,
          0.79797,
          0.78609,
          0.80162,
          0.78106,
          0.81163,
          0.83619,
          0.81535,
          0.81544,
          0.80821,
          0.82882,
          0.78881,
          0.80798,
          0.82955,
          0.80877,
          0.80748,
          0.79531,
          0.81005,
          0.79177,
          0.85858,
          0.82934,
          0.79186,
          0.83935,
          0.82443,
          0.82341,
          0.8421,
          0.79621,
          0.81933,
          0.81811,
          0.84024,
          0.82717,
          0.86019,
          0.83908,
          0.81781,
          0.82357,
          0.85396,
          0.82107,
          0.83207,
          0.86321,
          0.8087,
          0.84395,
          0.85693,
          0.80857,
          0.83514,
          0.81816,
          0.81824,
          0.85392,
          0.84365,
          0.84571,
          0.84717,
          0.83108,
          0.82958,
          0.81572,
          0.83643,
          0.82468,
          0.83009,
          0.81702,
          0.83544,
          0.83235,
          0.80868,
          0.87544,
          0.81661,
          0.84269,
          0.84126,
          0.8257,
          0.83364,
          0.83114,
          0.83459,
          0.84261,
          0.8475,
          0.84311,
          0.82885,
          0.84603
         ]
        },
        {
         "line": {
          "color": "#AA0DFE",
          "width": 2
         },
         "mode": "lines",
         "name": "Recall",
         "type": "scatter",
         "y": [
          0.35142,
          0.39959,
          0.39646,
          0.64351,
          0.63041,
          0.59955,
          0.62655,
          0.64882,
          0.69537,
          0.60724,
          0.70055,
          0.68054,
          0.70216,
          0.70814,
          0.72635,
          0.70606,
          0.70209,
          0.74661,
          0.69689,
          0.74063,
          0.70209,
          0.67073,
          0.74215,
          0.69157,
          0.75074,
          0.7417,
          0.751,
          0.74938,
          0.7454,
          0.76786,
          0.7722,
          0.74558,
          0.74545,
          0.73791,
          0.77133,
          0.75537,
          0.76672,
          0.75475,
          0.76638,
          0.78981,
          0.76996,
          0.78053,
          0.77221,
          0.76997,
          0.77776,
          0.77499,
          0.75148,
          0.77522,
          0.79415,
          0.76478,
          0.76676,
          0.78928,
          0.79204,
          0.79986,
          0.79795,
          0.79104,
          0.7939,
          0.79259,
          0.79487,
          0.78539,
          0.78965,
          0.78704,
          0.75897,
          0.80983,
          0.79089,
          0.75904,
          0.80406,
          0.76635,
          0.76799,
          0.82385,
          0.79239,
          0.81363,
          0.78349,
          0.80562,
          0.80231,
          0.80193,
          0.79967,
          0.79592,
          0.79619,
          0.82525,
          0.81878,
          0.79759,
          0.82219,
          0.82,
          0.80187,
          0.81149,
          0.82198,
          0.77095,
          0.83502,
          0.82746,
          0.81864,
          0.82849,
          0.82247,
          0.81951,
          0.82856,
          0.82443,
          0.81477,
          0.81711,
          0.82093,
          0.82267
         ]
        },
        {
         "line": {
          "color": "#782AB6",
          "width": 2
         },
         "mode": "lines",
         "name": "F1",
         "type": "scatter",
         "y": [
          0.27511113550956795,
          0.3952023450980392,
          0.45809439587593725,
          0.6186665402927742,
          0.6637081204690752,
          0.6346476304508267,
          0.6700149839213968,
          0.7131822377719466,
          0.7091945799358681,
          0.6689656607737258,
          0.7219036501401239,
          0.7228105555325864,
          0.7120293031158291,
          0.7305149559996992,
          0.7301945427031764,
          0.7480808871247037,
          0.7476223291776553,
          0.7715295429769936,
          0.7599343945810847,
          0.7402347892223416,
          0.749579730287839,
          0.713742670471194,
          0.752177654307039,
          0.7377070206004008,
          0.7843178684039751,
          0.7483989444993722,
          0.7738856707612267,
          0.7798946991128918,
          0.7707896849102936,
          0.7768680683419672,
          0.7866350205233127,
          0.7629077120997747,
          0.777133587869602,
          0.7839819108061749,
          0.7927293663498627,
          0.7842564190449514,
          0.7869184931393776,
          0.7900527226456678,
          0.7774332496993935,
          0.7987916857659643,
          0.7986449825258986,
          0.7943991041338954,
          0.7894512604371744,
          0.7824348879433711,
          0.7935766722718712,
          0.783290143097858,
          0.8014678936188714,
          0.8013672967043924,
          0.7930033467632612,
          0.8003317598947716,
          0.7945499240191303,
          0.8059838466165227,
          0.8163032347289706,
          0.7980308264675108,
          0.8084986811189158,
          0.8043473068390143,
          0.816412958498048,
          0.8095108785252136,
          0.8262410127729508,
          0.8113477518205938,
          0.8034833420427256,
          0.8048907343180534,
          0.8036678854011025,
          0.8154112675210007,
          0.8109575618622763,
          0.8077804511018647,
          0.8063733252312806,
          0.8032802366018753,
          0.8100259344460035,
          0.8161384870315237,
          0.8132035472157194,
          0.8158887121504604,
          0.8004880443020983,
          0.8290671275172639,
          0.8224608514180174,
          0.8232383534024423,
          0.8227349759539481,
          0.8131200904732637,
          0.8125421187498846,
          0.8204573270687459,
          0.827510896381728,
          0.8109088144390267,
          0.8261211139758394,
          0.8185072876324051,
          0.8183108547556663,
          0.8217876453912791,
          0.8152757612255161,
          0.8198792120943398,
          0.8257123958755895,
          0.8350055592611443,
          0.829795874932225,
          0.8270926471566143,
          0.8280173307328621,
          0.8252840292006179,
          0.831564068664883,
          0.8334208684854592,
          0.8308127740980707,
          0.8299064125236415,
          0.824870989465262,
          0.8341864925990292
         ]
        }
       ],
       "layout": {
        "template": {
         "data": {
          "bar": [
           {
            "error_x": {
             "color": "#2a3f5f"
            },
            "error_y": {
             "color": "#2a3f5f"
            },
            "marker": {
             "line": {
              "color": "#E5ECF6",
              "width": 0.5
             },
             "pattern": {
              "fillmode": "overlay",
              "size": 10,
              "solidity": 0.2
             }
            },
            "type": "bar"
           }
          ],
          "barpolar": [
           {
            "marker": {
             "line": {
              "color": "#E5ECF6",
              "width": 0.5
             },
             "pattern": {
              "fillmode": "overlay",
              "size": 10,
              "solidity": 0.2
             }
            },
            "type": "barpolar"
           }
          ],
          "carpet": [
           {
            "aaxis": {
             "endlinecolor": "#2a3f5f",
             "gridcolor": "white",
             "linecolor": "white",
             "minorgridcolor": "white",
             "startlinecolor": "#2a3f5f"
            },
            "baxis": {
             "endlinecolor": "#2a3f5f",
             "gridcolor": "white",
             "linecolor": "white",
             "minorgridcolor": "white",
             "startlinecolor": "#2a3f5f"
            },
            "type": "carpet"
           }
          ],
          "choropleth": [
           {
            "colorbar": {
             "outlinewidth": 0,
             "ticks": ""
            },
            "type": "choropleth"
           }
          ],
          "contour": [
           {
            "colorbar": {
             "outlinewidth": 0,
             "ticks": ""
            },
            "colorscale": [
             [
              0,
              "#0d0887"
             ],
             [
              0.1111111111111111,
              "#46039f"
             ],
             [
              0.2222222222222222,
              "#7201a8"
             ],
             [
              0.3333333333333333,
              "#9c179e"
             ],
             [
              0.4444444444444444,
              "#bd3786"
             ],
             [
              0.5555555555555556,
              "#d8576b"
             ],
             [
              0.6666666666666666,
              "#ed7953"
             ],
             [
              0.7777777777777778,
              "#fb9f3a"
             ],
             [
              0.8888888888888888,
              "#fdca26"
             ],
             [
              1,
              "#f0f921"
             ]
            ],
            "type": "contour"
           }
          ],
          "contourcarpet": [
           {
            "colorbar": {
             "outlinewidth": 0,
             "ticks": ""
            },
            "type": "contourcarpet"
           }
          ],
          "heatmap": [
           {
            "colorbar": {
             "outlinewidth": 0,
             "ticks": ""
            },
            "colorscale": [
             [
              0,
              "#0d0887"
             ],
             [
              0.1111111111111111,
              "#46039f"
             ],
             [
              0.2222222222222222,
              "#7201a8"
             ],
             [
              0.3333333333333333,
              "#9c179e"
             ],
             [
              0.4444444444444444,
              "#bd3786"
             ],
             [
              0.5555555555555556,
              "#d8576b"
             ],
             [
              0.6666666666666666,
              "#ed7953"
             ],
             [
              0.7777777777777778,
              "#fb9f3a"
             ],
             [
              0.8888888888888888,
              "#fdca26"
             ],
             [
              1,
              "#f0f921"
             ]
            ],
            "type": "heatmap"
           }
          ],
          "heatmapgl": [
           {
            "colorbar": {
             "outlinewidth": 0,
             "ticks": ""
            },
            "colorscale": [
             [
              0,
              "#0d0887"
             ],
             [
              0.1111111111111111,
              "#46039f"
             ],
             [
              0.2222222222222222,
              "#7201a8"
             ],
             [
              0.3333333333333333,
              "#9c179e"
             ],
             [
              0.4444444444444444,
              "#bd3786"
             ],
             [
              0.5555555555555556,
              "#d8576b"
             ],
             [
              0.6666666666666666,
              "#ed7953"
             ],
             [
              0.7777777777777778,
              "#fb9f3a"
             ],
             [
              0.8888888888888888,
              "#fdca26"
             ],
             [
              1,
              "#f0f921"
             ]
            ],
            "type": "heatmapgl"
           }
          ],
          "histogram": [
           {
            "marker": {
             "pattern": {
              "fillmode": "overlay",
              "size": 10,
              "solidity": 0.2
             }
            },
            "type": "histogram"
           }
          ],
          "histogram2d": [
           {
            "colorbar": {
             "outlinewidth": 0,
             "ticks": ""
            },
            "colorscale": [
             [
              0,
              "#0d0887"
             ],
             [
              0.1111111111111111,
              "#46039f"
             ],
             [
              0.2222222222222222,
              "#7201a8"
             ],
             [
              0.3333333333333333,
              "#9c179e"
             ],
             [
              0.4444444444444444,
              "#bd3786"
             ],
             [
              0.5555555555555556,
              "#d8576b"
             ],
             [
              0.6666666666666666,
              "#ed7953"
             ],
             [
              0.7777777777777778,
              "#fb9f3a"
             ],
             [
              0.8888888888888888,
              "#fdca26"
             ],
             [
              1,
              "#f0f921"
             ]
            ],
            "type": "histogram2d"
           }
          ],
          "histogram2dcontour": [
           {
            "colorbar": {
             "outlinewidth": 0,
             "ticks": ""
            },
            "colorscale": [
             [
              0,
              "#0d0887"
             ],
             [
              0.1111111111111111,
              "#46039f"
             ],
             [
              0.2222222222222222,
              "#7201a8"
             ],
             [
              0.3333333333333333,
              "#9c179e"
             ],
             [
              0.4444444444444444,
              "#bd3786"
             ],
             [
              0.5555555555555556,
              "#d8576b"
             ],
             [
              0.6666666666666666,
              "#ed7953"
             ],
             [
              0.7777777777777778,
              "#fb9f3a"
             ],
             [
              0.8888888888888888,
              "#fdca26"
             ],
             [
              1,
              "#f0f921"
             ]
            ],
            "type": "histogram2dcontour"
           }
          ],
          "mesh3d": [
           {
            "colorbar": {
             "outlinewidth": 0,
             "ticks": ""
            },
            "type": "mesh3d"
           }
          ],
          "parcoords": [
           {
            "line": {
             "colorbar": {
              "outlinewidth": 0,
              "ticks": ""
             }
            },
            "type": "parcoords"
           }
          ],
          "pie": [
           {
            "automargin": true,
            "type": "pie"
           }
          ],
          "scatter": [
           {
            "fillpattern": {
             "fillmode": "overlay",
             "size": 10,
             "solidity": 0.2
            },
            "type": "scatter"
           }
          ],
          "scatter3d": [
           {
            "line": {
             "colorbar": {
              "outlinewidth": 0,
              "ticks": ""
             }
            },
            "marker": {
             "colorbar": {
              "outlinewidth": 0,
              "ticks": ""
             }
            },
            "type": "scatter3d"
           }
          ],
          "scattercarpet": [
           {
            "marker": {
             "colorbar": {
              "outlinewidth": 0,
              "ticks": ""
             }
            },
            "type": "scattercarpet"
           }
          ],
          "scattergeo": [
           {
            "marker": {
             "colorbar": {
              "outlinewidth": 0,
              "ticks": ""
             }
            },
            "type": "scattergeo"
           }
          ],
          "scattergl": [
           {
            "marker": {
             "colorbar": {
              "outlinewidth": 0,
              "ticks": ""
             }
            },
            "type": "scattergl"
           }
          ],
          "scattermapbox": [
           {
            "marker": {
             "colorbar": {
              "outlinewidth": 0,
              "ticks": ""
             }
            },
            "type": "scattermapbox"
           }
          ],
          "scatterpolar": [
           {
            "marker": {
             "colorbar": {
              "outlinewidth": 0,
              "ticks": ""
             }
            },
            "type": "scatterpolar"
           }
          ],
          "scatterpolargl": [
           {
            "marker": {
             "colorbar": {
              "outlinewidth": 0,
              "ticks": ""
             }
            },
            "type": "scatterpolargl"
           }
          ],
          "scatterternary": [
           {
            "marker": {
             "colorbar": {
              "outlinewidth": 0,
              "ticks": ""
             }
            },
            "type": "scatterternary"
           }
          ],
          "surface": [
           {
            "colorbar": {
             "outlinewidth": 0,
             "ticks": ""
            },
            "colorscale": [
             [
              0,
              "#0d0887"
             ],
             [
              0.1111111111111111,
              "#46039f"
             ],
             [
              0.2222222222222222,
              "#7201a8"
             ],
             [
              0.3333333333333333,
              "#9c179e"
             ],
             [
              0.4444444444444444,
              "#bd3786"
             ],
             [
              0.5555555555555556,
              "#d8576b"
             ],
             [
              0.6666666666666666,
              "#ed7953"
             ],
             [
              0.7777777777777778,
              "#fb9f3a"
             ],
             [
              0.8888888888888888,
              "#fdca26"
             ],
             [
              1,
              "#f0f921"
             ]
            ],
            "type": "surface"
           }
          ],
          "table": [
           {
            "cells": {
             "fill": {
              "color": "#EBF0F8"
             },
             "line": {
              "color": "white"
             }
            },
            "header": {
             "fill": {
              "color": "#C8D4E3"
             },
             "line": {
              "color": "white"
             }
            },
            "type": "table"
           }
          ]
         },
         "layout": {
          "annotationdefaults": {
           "arrowcolor": "#2a3f5f",
           "arrowhead": 0,
           "arrowwidth": 1
          },
          "autotypenumbers": "strict",
          "coloraxis": {
           "colorbar": {
            "outlinewidth": 0,
            "ticks": ""
           }
          },
          "colorscale": {
           "diverging": [
            [
             0,
             "#8e0152"
            ],
            [
             0.1,
             "#c51b7d"
            ],
            [
             0.2,
             "#de77ae"
            ],
            [
             0.3,
             "#f1b6da"
            ],
            [
             0.4,
             "#fde0ef"
            ],
            [
             0.5,
             "#f7f7f7"
            ],
            [
             0.6,
             "#e6f5d0"
            ],
            [
             0.7,
             "#b8e186"
            ],
            [
             0.8,
             "#7fbc41"
            ],
            [
             0.9,
             "#4d9221"
            ],
            [
             1,
             "#276419"
            ]
           ],
           "sequential": [
            [
             0,
             "#0d0887"
            ],
            [
             0.1111111111111111,
             "#46039f"
            ],
            [
             0.2222222222222222,
             "#7201a8"
            ],
            [
             0.3333333333333333,
             "#9c179e"
            ],
            [
             0.4444444444444444,
             "#bd3786"
            ],
            [
             0.5555555555555556,
             "#d8576b"
            ],
            [
             0.6666666666666666,
             "#ed7953"
            ],
            [
             0.7777777777777778,
             "#fb9f3a"
            ],
            [
             0.8888888888888888,
             "#fdca26"
            ],
            [
             1,
             "#f0f921"
            ]
           ],
           "sequentialminus": [
            [
             0,
             "#0d0887"
            ],
            [
             0.1111111111111111,
             "#46039f"
            ],
            [
             0.2222222222222222,
             "#7201a8"
            ],
            [
             0.3333333333333333,
             "#9c179e"
            ],
            [
             0.4444444444444444,
             "#bd3786"
            ],
            [
             0.5555555555555556,
             "#d8576b"
            ],
            [
             0.6666666666666666,
             "#ed7953"
            ],
            [
             0.7777777777777778,
             "#fb9f3a"
            ],
            [
             0.8888888888888888,
             "#fdca26"
            ],
            [
             1,
             "#f0f921"
            ]
           ]
          },
          "colorway": [
           "#636efa",
           "#EF553B",
           "#00cc96",
           "#ab63fa",
           "#FFA15A",
           "#19d3f3",
           "#FF6692",
           "#B6E880",
           "#FF97FF",
           "#FECB52"
          ],
          "font": {
           "color": "#2a3f5f"
          },
          "geo": {
           "bgcolor": "white",
           "lakecolor": "white",
           "landcolor": "#E5ECF6",
           "showlakes": true,
           "showland": true,
           "subunitcolor": "white"
          },
          "hoverlabel": {
           "align": "left"
          },
          "hovermode": "closest",
          "mapbox": {
           "style": "light"
          },
          "paper_bgcolor": "white",
          "plot_bgcolor": "#E5ECF6",
          "polar": {
           "angularaxis": {
            "gridcolor": "white",
            "linecolor": "white",
            "ticks": ""
           },
           "bgcolor": "#E5ECF6",
           "radialaxis": {
            "gridcolor": "white",
            "linecolor": "white",
            "ticks": ""
           }
          },
          "scene": {
           "xaxis": {
            "backgroundcolor": "#E5ECF6",
            "gridcolor": "white",
            "gridwidth": 2,
            "linecolor": "white",
            "showbackground": true,
            "ticks": "",
            "zerolinecolor": "white"
           },
           "yaxis": {
            "backgroundcolor": "#E5ECF6",
            "gridcolor": "white",
            "gridwidth": 2,
            "linecolor": "white",
            "showbackground": true,
            "ticks": "",
            "zerolinecolor": "white"
           },
           "zaxis": {
            "backgroundcolor": "#E5ECF6",
            "gridcolor": "white",
            "gridwidth": 2,
            "linecolor": "white",
            "showbackground": true,
            "ticks": "",
            "zerolinecolor": "white"
           }
          },
          "shapedefaults": {
           "line": {
            "color": "#2a3f5f"
           }
          },
          "ternary": {
           "aaxis": {
            "gridcolor": "white",
            "linecolor": "white",
            "ticks": ""
           },
           "baxis": {
            "gridcolor": "white",
            "linecolor": "white",
            "ticks": ""
           },
           "bgcolor": "#E5ECF6",
           "caxis": {
            "gridcolor": "white",
            "linecolor": "white",
            "ticks": ""
           }
          },
          "title": {
           "x": 0.05
          },
          "xaxis": {
           "automargin": true,
           "gridcolor": "white",
           "linecolor": "white",
           "ticks": "",
           "title": {
            "standoff": 15
           },
           "zerolinecolor": "white",
           "zerolinewidth": 2
          },
          "yaxis": {
           "automargin": true,
           "gridcolor": "white",
           "linecolor": "white",
           "ticks": "",
           "title": {
            "standoff": 15
           },
           "zerolinecolor": "white",
           "zerolinewidth": 2
          }
         }
        },
        "title": {
         "text": "YOLOv5s precision, recall and F1 augmented training"
        },
        "xaxis": {
         "title": {
          "text": "Epoch"
         }
        },
        "yaxis": {
         "title": {
          "text": "Score"
         }
        }
       }
      }
     },
     "metadata": {},
     "output_type": "display_data"
    }
   ],
   "source": [
    "# Plot the precision, recall and F1 score\n",
    "fig = go.Figure()\n",
    "fig.add_trace(go.Scatter(x=print(data['               epoch'])\n",
    ", y=data['   metrics/precision'],\n",
    "                    mode='lines',\n",
    "                    name='Precision', line=dict(color='#DEA0FD', width=2)))\n",
    "\n",
    "fig.add_trace(go.Scatter(x=print(data['               epoch'])\n",
    ", y=data['      metrics/recall'],\n",
    "                    mode='lines',\n",
    "                    name='Recall', line=dict(color='#AA0DFE', width=2)))\n",
    "\n",
    "\n",
    "F1_scores = [F1(data['      metrics/recall'][i], data['   metrics/precision'][i]) for i in range(len(data['               epoch']))]\n",
    "fig.add_trace(go.Scatter(x=print(data['               epoch'])\n",
    ", y=F1_scores,\n",
    "                    mode='lines',\n",
    "                    name='F1', line=dict(color='#782AB6', width=2)))\n",
    "\n",
    "fig.update_layout(\n",
    "    title_text='YOLOv5s precision, recall and F1 augmented training',\n",
    "    yaxis_title_text='Score',\n",
    "    xaxis_title_text='Epoch'\n",
    ")\n",
    "fig.show()"
   ]
  },
  {
   "cell_type": "code",
   "execution_count": 10,
   "metadata": {},
   "outputs": [
    {
     "name": "stdout",
     "output_type": "stream",
     "text": [
      "0.84007 0.58488 0.82746 0.84269\n"
     ]
    }
   ],
   "source": [
    "# Get the precision, recall, mAP scores for the epoch with the highest F1 score\n",
    "F1_max_index = np.argmax(F1_scores)\n",
    "max_recall = data['      metrics/recall'][F1_max_index]\n",
    "max_precision = data['   metrics/precision'][F1_max_index]\n",
    "max_mAP5 = data['     metrics/mAP_0.5'][F1_max_index]\n",
    "max_mAP595 = data['metrics/mAP_0.5:0.95'][F1_max_index]\n",
    "print(max_mAP5, max_mAP595, max_recall, max_precision, )"
   ]
  },
  {
   "cell_type": "code",
   "execution_count": null,
   "metadata": {},
   "outputs": [],
   "source": []
  }
 ],
 "metadata": {
  "kernelspec": {
   "display_name": "thesis",
   "language": "python",
   "name": "python3"
  },
  "language_info": {
   "codemirror_mode": {
    "name": "ipython",
    "version": 3
   },
   "file_extension": ".py",
   "mimetype": "text/x-python",
   "name": "python",
   "nbconvert_exporter": "python",
   "pygments_lexer": "ipython3",
   "version": "3.9.15"
  },
  "orig_nbformat": 4,
  "vscode": {
   "interpreter": {
    "hash": "5cb2f0ed5fa6c4f2cdf5f44b897e11a60b10ecfd1f971acd27850fee5e420b7e"
   }
  }
 },
 "nbformat": 4,
 "nbformat_minor": 2
}
