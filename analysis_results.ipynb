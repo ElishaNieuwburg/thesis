{
 "cells": [
  {
   "attachments": {},
   "cell_type": "markdown",
   "metadata": {},
   "source": [
    "## Code for analyzing the results of the YOLOv5s model"
   ]
  },
  {
   "cell_type": "code",
   "execution_count": 1,
   "metadata": {},
   "outputs": [],
   "source": [
    "# Import packages\n",
    "import os\n",
    "import numpy as np\n",
    "import pandas as pd\n",
    "import plotly.graph_objects as go"
   ]
  },
  {
   "cell_type": "code",
   "execution_count": 7,
   "metadata": {},
   "outputs": [
    {
     "data": {
      "text/html": [
       "<div>\n",
       "<style scoped>\n",
       "    .dataframe tbody tr th:only-of-type {\n",
       "        vertical-align: middle;\n",
       "    }\n",
       "\n",
       "    .dataframe tbody tr th {\n",
       "        vertical-align: top;\n",
       "    }\n",
       "\n",
       "    .dataframe thead th {\n",
       "        text-align: right;\n",
       "    }\n",
       "</style>\n",
       "<table border=\"1\" class=\"dataframe\">\n",
       "  <thead>\n",
       "    <tr style=\"text-align: right;\">\n",
       "      <th></th>\n",
       "      <th>epoch</th>\n",
       "      <th>train/box_loss</th>\n",
       "      <th>train/obj_loss</th>\n",
       "      <th>train/cls_loss</th>\n",
       "      <th>metrics/precision</th>\n",
       "      <th>metrics/recall</th>\n",
       "      <th>metrics/mAP_0.5</th>\n",
       "      <th>metrics/mAP_0.5:0.95</th>\n",
       "      <th>val/box_loss</th>\n",
       "      <th>val/obj_loss</th>\n",
       "      <th>val/cls_loss</th>\n",
       "      <th>x/lr0</th>\n",
       "      <th>x/lr1</th>\n",
       "      <th>x/lr2</th>\n",
       "    </tr>\n",
       "  </thead>\n",
       "  <tbody>\n",
       "    <tr>\n",
       "      <th>0</th>\n",
       "      <td>0</td>\n",
       "      <td>0.076203</td>\n",
       "      <td>0.019266</td>\n",
       "      <td>0</td>\n",
       "      <td>0.52196</td>\n",
       "      <td>0.45915</td>\n",
       "      <td>0.45779</td>\n",
       "      <td>0.17793</td>\n",
       "      <td>0.053426</td>\n",
       "      <td>0.017952</td>\n",
       "      <td>0</td>\n",
       "      <td>0.070081</td>\n",
       "      <td>0.003324</td>\n",
       "      <td>0.003324</td>\n",
       "    </tr>\n",
       "    <tr>\n",
       "      <th>1</th>\n",
       "      <td>1</td>\n",
       "      <td>0.053250</td>\n",
       "      <td>0.013484</td>\n",
       "      <td>0</td>\n",
       "      <td>0.67941</td>\n",
       "      <td>0.61707</td>\n",
       "      <td>0.66887</td>\n",
       "      <td>0.32332</td>\n",
       "      <td>0.044541</td>\n",
       "      <td>0.014478</td>\n",
       "      <td>0</td>\n",
       "      <td>0.040006</td>\n",
       "      <td>0.006583</td>\n",
       "      <td>0.006583</td>\n",
       "    </tr>\n",
       "    <tr>\n",
       "      <th>2</th>\n",
       "      <td>2</td>\n",
       "      <td>0.049423</td>\n",
       "      <td>0.011804</td>\n",
       "      <td>0</td>\n",
       "      <td>0.66618</td>\n",
       "      <td>0.58056</td>\n",
       "      <td>0.61425</td>\n",
       "      <td>0.28430</td>\n",
       "      <td>0.047377</td>\n",
       "      <td>0.014180</td>\n",
       "      <td>0</td>\n",
       "      <td>0.009856</td>\n",
       "      <td>0.009766</td>\n",
       "      <td>0.009766</td>\n",
       "    </tr>\n",
       "    <tr>\n",
       "      <th>3</th>\n",
       "      <td>3</td>\n",
       "      <td>0.046268</td>\n",
       "      <td>0.011386</td>\n",
       "      <td>0</td>\n",
       "      <td>0.70933</td>\n",
       "      <td>0.60158</td>\n",
       "      <td>0.66467</td>\n",
       "      <td>0.32860</td>\n",
       "      <td>0.044372</td>\n",
       "      <td>0.013507</td>\n",
       "      <td>0</td>\n",
       "      <td>0.009662</td>\n",
       "      <td>0.009662</td>\n",
       "      <td>0.009662</td>\n",
       "    </tr>\n",
       "    <tr>\n",
       "      <th>4</th>\n",
       "      <td>4</td>\n",
       "      <td>0.042515</td>\n",
       "      <td>0.010511</td>\n",
       "      <td>0</td>\n",
       "      <td>0.77503</td>\n",
       "      <td>0.71597</td>\n",
       "      <td>0.78354</td>\n",
       "      <td>0.42384</td>\n",
       "      <td>0.036165</td>\n",
       "      <td>0.012021</td>\n",
       "      <td>0</td>\n",
       "      <td>0.009662</td>\n",
       "      <td>0.009662</td>\n",
       "      <td>0.009662</td>\n",
       "    </tr>\n",
       "    <tr>\n",
       "      <th>...</th>\n",
       "      <td>...</td>\n",
       "      <td>...</td>\n",
       "      <td>...</td>\n",
       "      <td>...</td>\n",
       "      <td>...</td>\n",
       "      <td>...</td>\n",
       "      <td>...</td>\n",
       "      <td>...</td>\n",
       "      <td>...</td>\n",
       "      <td>...</td>\n",
       "      <td>...</td>\n",
       "      <td>...</td>\n",
       "      <td>...</td>\n",
       "      <td>...</td>\n",
       "    </tr>\n",
       "    <tr>\n",
       "      <th>75</th>\n",
       "      <td>75</td>\n",
       "      <td>0.004680</td>\n",
       "      <td>0.000882</td>\n",
       "      <td>0</td>\n",
       "      <td>0.99072</td>\n",
       "      <td>0.99208</td>\n",
       "      <td>0.99473</td>\n",
       "      <td>0.96438</td>\n",
       "      <td>0.005814</td>\n",
       "      <td>0.001617</td>\n",
       "      <td>0</td>\n",
       "      <td>0.001675</td>\n",
       "      <td>0.001675</td>\n",
       "      <td>0.001675</td>\n",
       "    </tr>\n",
       "    <tr>\n",
       "      <th>76</th>\n",
       "      <td>76</td>\n",
       "      <td>0.004469</td>\n",
       "      <td>0.000843</td>\n",
       "      <td>0</td>\n",
       "      <td>0.99049</td>\n",
       "      <td>0.99178</td>\n",
       "      <td>0.99473</td>\n",
       "      <td>0.96474</td>\n",
       "      <td>0.005772</td>\n",
       "      <td>0.001602</td>\n",
       "      <td>0</td>\n",
       "      <td>0.001563</td>\n",
       "      <td>0.001563</td>\n",
       "      <td>0.001563</td>\n",
       "    </tr>\n",
       "    <tr>\n",
       "      <th>77</th>\n",
       "      <td>77</td>\n",
       "      <td>0.004391</td>\n",
       "      <td>0.000811</td>\n",
       "      <td>0</td>\n",
       "      <td>0.99108</td>\n",
       "      <td>0.99187</td>\n",
       "      <td>0.99476</td>\n",
       "      <td>0.96553</td>\n",
       "      <td>0.005733</td>\n",
       "      <td>0.001587</td>\n",
       "      <td>0</td>\n",
       "      <td>0.001450</td>\n",
       "      <td>0.001450</td>\n",
       "      <td>0.001450</td>\n",
       "    </tr>\n",
       "    <tr>\n",
       "      <th>78</th>\n",
       "      <td>78</td>\n",
       "      <td>0.004218</td>\n",
       "      <td>0.000794</td>\n",
       "      <td>0</td>\n",
       "      <td>0.99143</td>\n",
       "      <td>0.99220</td>\n",
       "      <td>0.99475</td>\n",
       "      <td>0.96465</td>\n",
       "      <td>0.005736</td>\n",
       "      <td>0.001581</td>\n",
       "      <td>0</td>\n",
       "      <td>0.001337</td>\n",
       "      <td>0.001337</td>\n",
       "      <td>0.001337</td>\n",
       "    </tr>\n",
       "    <tr>\n",
       "      <th>79</th>\n",
       "      <td>79</td>\n",
       "      <td>0.004046</td>\n",
       "      <td>0.000752</td>\n",
       "      <td>0</td>\n",
       "      <td>0.99052</td>\n",
       "      <td>0.99214</td>\n",
       "      <td>0.99475</td>\n",
       "      <td>0.96600</td>\n",
       "      <td>0.005664</td>\n",
       "      <td>0.001561</td>\n",
       "      <td>0</td>\n",
       "      <td>0.001225</td>\n",
       "      <td>0.001225</td>\n",
       "      <td>0.001225</td>\n",
       "    </tr>\n",
       "  </tbody>\n",
       "</table>\n",
       "<p>80 rows × 14 columns</p>\n",
       "</div>"
      ],
      "text/plain": [
       "    epoch  train/box_loss  train/obj_loss  train/cls_loss  metrics/precision  \\\n",
       "0       0        0.076203        0.019266               0            0.52196   \n",
       "1       1        0.053250        0.013484               0            0.67941   \n",
       "2       2        0.049423        0.011804               0            0.66618   \n",
       "3       3        0.046268        0.011386               0            0.70933   \n",
       "4       4        0.042515        0.010511               0            0.77503   \n",
       "..    ...             ...             ...             ...                ...   \n",
       "75     75        0.004680        0.000882               0            0.99072   \n",
       "76     76        0.004469        0.000843               0            0.99049   \n",
       "77     77        0.004391        0.000811               0            0.99108   \n",
       "78     78        0.004218        0.000794               0            0.99143   \n",
       "79     79        0.004046        0.000752               0            0.99052   \n",
       "\n",
       "    metrics/recall  metrics/mAP_0.5  metrics/mAP_0.5:0.95  val/box_loss  \\\n",
       "0          0.45915          0.45779               0.17793      0.053426   \n",
       "1          0.61707          0.66887               0.32332      0.044541   \n",
       "2          0.58056          0.61425               0.28430      0.047377   \n",
       "3          0.60158          0.66467               0.32860      0.044372   \n",
       "4          0.71597          0.78354               0.42384      0.036165   \n",
       "..             ...              ...                   ...           ...   \n",
       "75         0.99208          0.99473               0.96438      0.005814   \n",
       "76         0.99178          0.99473               0.96474      0.005772   \n",
       "77         0.99187          0.99476               0.96553      0.005733   \n",
       "78         0.99220          0.99475               0.96465      0.005736   \n",
       "79         0.99214          0.99475               0.96600      0.005664   \n",
       "\n",
       "    val/obj_loss  val/cls_loss     x/lr0     x/lr1     x/lr2  \n",
       "0       0.017952             0  0.070081  0.003324  0.003324  \n",
       "1       0.014478             0  0.040006  0.006583  0.006583  \n",
       "2       0.014180             0  0.009856  0.009766  0.009766  \n",
       "3       0.013507             0  0.009662  0.009662  0.009662  \n",
       "4       0.012021             0  0.009662  0.009662  0.009662  \n",
       "..           ...           ...       ...       ...       ...  \n",
       "75      0.001617             0  0.001675  0.001675  0.001675  \n",
       "76      0.001602             0  0.001563  0.001563  0.001563  \n",
       "77      0.001587             0  0.001450  0.001450  0.001450  \n",
       "78      0.001581             0  0.001337  0.001337  0.001337  \n",
       "79      0.001561             0  0.001225  0.001225  0.001225  \n",
       "\n",
       "[80 rows x 14 columns]"
      ]
     },
     "execution_count": 7,
     "metadata": {},
     "output_type": "execute_result"
    }
   ],
   "source": [
    "# Read results.txt data file from given path\n",
    "data_path = os.path.join('experiments', 'yolov5l', 'damage_100_1_1000_nonmix_nonaugs', 'results.csv')\n",
    "columns = ['epoch', 'train/box_loss', 'train/obj_loss', 'train/cls_loss',\n",
    "           'metrics/precision', 'metrics/recall', 'metrics/mAP_0.5',\n",
    "           'metrics/mAP_0.5:0.95', 'val/box_loss', 'val/obj_loss',\n",
    "           'val/cls_loss', 'x/lr0', 'x/lr1', 'x/lr2']\n",
    "data = pd.read_csv(data_path)\n",
    "data.columns = columns\n",
    "data"
   ]
  },
  {
   "cell_type": "code",
   "execution_count": 9,
   "metadata": {},
   "outputs": [
    {
     "name": "stdout",
     "output_type": "stream",
     "text": [
      "0      0\n",
      "1      1\n",
      "2      2\n",
      "3      3\n",
      "4      4\n",
      "      ..\n",
      "75    75\n",
      "76    76\n",
      "77    77\n",
      "78    78\n",
      "79    79\n",
      "Name: epoch, Length: 80, dtype: int64\n",
      "0      0\n",
      "1      1\n",
      "2      2\n",
      "3      3\n",
      "4      4\n",
      "      ..\n",
      "75    75\n",
      "76    76\n",
      "77    77\n",
      "78    78\n",
      "79    79\n",
      "Name: epoch, Length: 80, dtype: int64\n"
     ]
    },
    {
     "data": {
      "application/vnd.plotly.v1+json": {
       "config": {
        "plotlyServerURL": "https://plot.ly"
       },
       "data": [
        {
         "line": {
          "color": "#DEA0FD",
          "width": 2
         },
         "mode": "lines",
         "name": "mAP@.5",
         "type": "scatter",
         "y": [
          0.45779,
          0.66887,
          0.61425,
          0.66467,
          0.78354,
          0.76706,
          0.84666,
          0.8845,
          0.90049,
          0.92899,
          0.94429,
          0.96144,
          0.96385,
          0.97484,
          0.97927,
          0.97745,
          0.9864,
          0.98701,
          0.9882,
          0.99041,
          0.99008,
          0.99156,
          0.99245,
          0.99107,
          0.99234,
          0.99288,
          0.99321,
          0.99344,
          0.994,
          0.9938,
          0.99398,
          0.99397,
          0.99428,
          0.99397,
          0.99432,
          0.99416,
          0.99445,
          0.99431,
          0.99436,
          0.99438,
          0.99456,
          0.99455,
          0.99426,
          0.99464,
          0.99465,
          0.99479,
          0.99462,
          0.99462,
          0.99472,
          0.99468,
          0.9947,
          0.99475,
          0.99467,
          0.99464,
          0.99472,
          0.99457,
          0.99478,
          0.99474,
          0.99473,
          0.99473,
          0.99465,
          0.99466,
          0.9947,
          0.99475,
          0.99476,
          0.99472,
          0.99477,
          0.99473,
          0.99473,
          0.99473,
          0.9947,
          0.99474,
          0.99469,
          0.99474,
          0.9947,
          0.99473,
          0.99473,
          0.99476,
          0.99475,
          0.99475
         ]
        },
        {
         "line": {
          "color": "#AA0DFE",
          "width": 2
         },
         "mode": "lines",
         "name": "mAP@.5:.95",
         "type": "scatter",
         "y": [
          0.17793,
          0.32332,
          0.2843,
          0.3286,
          0.42384,
          0.42614,
          0.48415,
          0.52062,
          0.55927,
          0.5897,
          0.62878,
          0.65973,
          0.66986,
          0.69888,
          0.71628,
          0.73451,
          0.74998,
          0.76085,
          0.77522,
          0.77923,
          0.79034,
          0.81285,
          0.81497,
          0.81566,
          0.82494,
          0.83323,
          0.84628,
          0.85461,
          0.8491,
          0.86349,
          0.86446,
          0.86562,
          0.87209,
          0.87871,
          0.88369,
          0.88777,
          0.89521,
          0.8991,
          0.90079,
          0.90191,
          0.90435,
          0.90987,
          0.91326,
          0.91219,
          0.91808,
          0.91773,
          0.92354,
          0.92383,
          0.92981,
          0.93076,
          0.93237,
          0.93543,
          0.93361,
          0.93843,
          0.93841,
          0.9408,
          0.94394,
          0.94447,
          0.94669,
          0.94717,
          0.94921,
          0.95174,
          0.95045,
          0.95553,
          0.95381,
          0.9546,
          0.95578,
          0.95765,
          0.95905,
          0.95916,
          0.96044,
          0.96056,
          0.96098,
          0.9635,
          0.96494,
          0.96438,
          0.96474,
          0.96553,
          0.96465,
          0.966
         ]
        }
       ],
       "layout": {
        "template": {
         "data": {
          "bar": [
           {
            "error_x": {
             "color": "#2a3f5f"
            },
            "error_y": {
             "color": "#2a3f5f"
            },
            "marker": {
             "line": {
              "color": "#E5ECF6",
              "width": 0.5
             },
             "pattern": {
              "fillmode": "overlay",
              "size": 10,
              "solidity": 0.2
             }
            },
            "type": "bar"
           }
          ],
          "barpolar": [
           {
            "marker": {
             "line": {
              "color": "#E5ECF6",
              "width": 0.5
             },
             "pattern": {
              "fillmode": "overlay",
              "size": 10,
              "solidity": 0.2
             }
            },
            "type": "barpolar"
           }
          ],
          "carpet": [
           {
            "aaxis": {
             "endlinecolor": "#2a3f5f",
             "gridcolor": "white",
             "linecolor": "white",
             "minorgridcolor": "white",
             "startlinecolor": "#2a3f5f"
            },
            "baxis": {
             "endlinecolor": "#2a3f5f",
             "gridcolor": "white",
             "linecolor": "white",
             "minorgridcolor": "white",
             "startlinecolor": "#2a3f5f"
            },
            "type": "carpet"
           }
          ],
          "choropleth": [
           {
            "colorbar": {
             "outlinewidth": 0,
             "ticks": ""
            },
            "type": "choropleth"
           }
          ],
          "contour": [
           {
            "colorbar": {
             "outlinewidth": 0,
             "ticks": ""
            },
            "colorscale": [
             [
              0,
              "#0d0887"
             ],
             [
              0.1111111111111111,
              "#46039f"
             ],
             [
              0.2222222222222222,
              "#7201a8"
             ],
             [
              0.3333333333333333,
              "#9c179e"
             ],
             [
              0.4444444444444444,
              "#bd3786"
             ],
             [
              0.5555555555555556,
              "#d8576b"
             ],
             [
              0.6666666666666666,
              "#ed7953"
             ],
             [
              0.7777777777777778,
              "#fb9f3a"
             ],
             [
              0.8888888888888888,
              "#fdca26"
             ],
             [
              1,
              "#f0f921"
             ]
            ],
            "type": "contour"
           }
          ],
          "contourcarpet": [
           {
            "colorbar": {
             "outlinewidth": 0,
             "ticks": ""
            },
            "type": "contourcarpet"
           }
          ],
          "heatmap": [
           {
            "colorbar": {
             "outlinewidth": 0,
             "ticks": ""
            },
            "colorscale": [
             [
              0,
              "#0d0887"
             ],
             [
              0.1111111111111111,
              "#46039f"
             ],
             [
              0.2222222222222222,
              "#7201a8"
             ],
             [
              0.3333333333333333,
              "#9c179e"
             ],
             [
              0.4444444444444444,
              "#bd3786"
             ],
             [
              0.5555555555555556,
              "#d8576b"
             ],
             [
              0.6666666666666666,
              "#ed7953"
             ],
             [
              0.7777777777777778,
              "#fb9f3a"
             ],
             [
              0.8888888888888888,
              "#fdca26"
             ],
             [
              1,
              "#f0f921"
             ]
            ],
            "type": "heatmap"
           }
          ],
          "heatmapgl": [
           {
            "colorbar": {
             "outlinewidth": 0,
             "ticks": ""
            },
            "colorscale": [
             [
              0,
              "#0d0887"
             ],
             [
              0.1111111111111111,
              "#46039f"
             ],
             [
              0.2222222222222222,
              "#7201a8"
             ],
             [
              0.3333333333333333,
              "#9c179e"
             ],
             [
              0.4444444444444444,
              "#bd3786"
             ],
             [
              0.5555555555555556,
              "#d8576b"
             ],
             [
              0.6666666666666666,
              "#ed7953"
             ],
             [
              0.7777777777777778,
              "#fb9f3a"
             ],
             [
              0.8888888888888888,
              "#fdca26"
             ],
             [
              1,
              "#f0f921"
             ]
            ],
            "type": "heatmapgl"
           }
          ],
          "histogram": [
           {
            "marker": {
             "pattern": {
              "fillmode": "overlay",
              "size": 10,
              "solidity": 0.2
             }
            },
            "type": "histogram"
           }
          ],
          "histogram2d": [
           {
            "colorbar": {
             "outlinewidth": 0,
             "ticks": ""
            },
            "colorscale": [
             [
              0,
              "#0d0887"
             ],
             [
              0.1111111111111111,
              "#46039f"
             ],
             [
              0.2222222222222222,
              "#7201a8"
             ],
             [
              0.3333333333333333,
              "#9c179e"
             ],
             [
              0.4444444444444444,
              "#bd3786"
             ],
             [
              0.5555555555555556,
              "#d8576b"
             ],
             [
              0.6666666666666666,
              "#ed7953"
             ],
             [
              0.7777777777777778,
              "#fb9f3a"
             ],
             [
              0.8888888888888888,
              "#fdca26"
             ],
             [
              1,
              "#f0f921"
             ]
            ],
            "type": "histogram2d"
           }
          ],
          "histogram2dcontour": [
           {
            "colorbar": {
             "outlinewidth": 0,
             "ticks": ""
            },
            "colorscale": [
             [
              0,
              "#0d0887"
             ],
             [
              0.1111111111111111,
              "#46039f"
             ],
             [
              0.2222222222222222,
              "#7201a8"
             ],
             [
              0.3333333333333333,
              "#9c179e"
             ],
             [
              0.4444444444444444,
              "#bd3786"
             ],
             [
              0.5555555555555556,
              "#d8576b"
             ],
             [
              0.6666666666666666,
              "#ed7953"
             ],
             [
              0.7777777777777778,
              "#fb9f3a"
             ],
             [
              0.8888888888888888,
              "#fdca26"
             ],
             [
              1,
              "#f0f921"
             ]
            ],
            "type": "histogram2dcontour"
           }
          ],
          "mesh3d": [
           {
            "colorbar": {
             "outlinewidth": 0,
             "ticks": ""
            },
            "type": "mesh3d"
           }
          ],
          "parcoords": [
           {
            "line": {
             "colorbar": {
              "outlinewidth": 0,
              "ticks": ""
             }
            },
            "type": "parcoords"
           }
          ],
          "pie": [
           {
            "automargin": true,
            "type": "pie"
           }
          ],
          "scatter": [
           {
            "fillpattern": {
             "fillmode": "overlay",
             "size": 10,
             "solidity": 0.2
            },
            "type": "scatter"
           }
          ],
          "scatter3d": [
           {
            "line": {
             "colorbar": {
              "outlinewidth": 0,
              "ticks": ""
             }
            },
            "marker": {
             "colorbar": {
              "outlinewidth": 0,
              "ticks": ""
             }
            },
            "type": "scatter3d"
           }
          ],
          "scattercarpet": [
           {
            "marker": {
             "colorbar": {
              "outlinewidth": 0,
              "ticks": ""
             }
            },
            "type": "scattercarpet"
           }
          ],
          "scattergeo": [
           {
            "marker": {
             "colorbar": {
              "outlinewidth": 0,
              "ticks": ""
             }
            },
            "type": "scattergeo"
           }
          ],
          "scattergl": [
           {
            "marker": {
             "colorbar": {
              "outlinewidth": 0,
              "ticks": ""
             }
            },
            "type": "scattergl"
           }
          ],
          "scattermapbox": [
           {
            "marker": {
             "colorbar": {
              "outlinewidth": 0,
              "ticks": ""
             }
            },
            "type": "scattermapbox"
           }
          ],
          "scatterpolar": [
           {
            "marker": {
             "colorbar": {
              "outlinewidth": 0,
              "ticks": ""
             }
            },
            "type": "scatterpolar"
           }
          ],
          "scatterpolargl": [
           {
            "marker": {
             "colorbar": {
              "outlinewidth": 0,
              "ticks": ""
             }
            },
            "type": "scatterpolargl"
           }
          ],
          "scatterternary": [
           {
            "marker": {
             "colorbar": {
              "outlinewidth": 0,
              "ticks": ""
             }
            },
            "type": "scatterternary"
           }
          ],
          "surface": [
           {
            "colorbar": {
             "outlinewidth": 0,
             "ticks": ""
            },
            "colorscale": [
             [
              0,
              "#0d0887"
             ],
             [
              0.1111111111111111,
              "#46039f"
             ],
             [
              0.2222222222222222,
              "#7201a8"
             ],
             [
              0.3333333333333333,
              "#9c179e"
             ],
             [
              0.4444444444444444,
              "#bd3786"
             ],
             [
              0.5555555555555556,
              "#d8576b"
             ],
             [
              0.6666666666666666,
              "#ed7953"
             ],
             [
              0.7777777777777778,
              "#fb9f3a"
             ],
             [
              0.8888888888888888,
              "#fdca26"
             ],
             [
              1,
              "#f0f921"
             ]
            ],
            "type": "surface"
           }
          ],
          "table": [
           {
            "cells": {
             "fill": {
              "color": "#EBF0F8"
             },
             "line": {
              "color": "white"
             }
            },
            "header": {
             "fill": {
              "color": "#C8D4E3"
             },
             "line": {
              "color": "white"
             }
            },
            "type": "table"
           }
          ]
         },
         "layout": {
          "annotationdefaults": {
           "arrowcolor": "#2a3f5f",
           "arrowhead": 0,
           "arrowwidth": 1
          },
          "autotypenumbers": "strict",
          "coloraxis": {
           "colorbar": {
            "outlinewidth": 0,
            "ticks": ""
           }
          },
          "colorscale": {
           "diverging": [
            [
             0,
             "#8e0152"
            ],
            [
             0.1,
             "#c51b7d"
            ],
            [
             0.2,
             "#de77ae"
            ],
            [
             0.3,
             "#f1b6da"
            ],
            [
             0.4,
             "#fde0ef"
            ],
            [
             0.5,
             "#f7f7f7"
            ],
            [
             0.6,
             "#e6f5d0"
            ],
            [
             0.7,
             "#b8e186"
            ],
            [
             0.8,
             "#7fbc41"
            ],
            [
             0.9,
             "#4d9221"
            ],
            [
             1,
             "#276419"
            ]
           ],
           "sequential": [
            [
             0,
             "#0d0887"
            ],
            [
             0.1111111111111111,
             "#46039f"
            ],
            [
             0.2222222222222222,
             "#7201a8"
            ],
            [
             0.3333333333333333,
             "#9c179e"
            ],
            [
             0.4444444444444444,
             "#bd3786"
            ],
            [
             0.5555555555555556,
             "#d8576b"
            ],
            [
             0.6666666666666666,
             "#ed7953"
            ],
            [
             0.7777777777777778,
             "#fb9f3a"
            ],
            [
             0.8888888888888888,
             "#fdca26"
            ],
            [
             1,
             "#f0f921"
            ]
           ],
           "sequentialminus": [
            [
             0,
             "#0d0887"
            ],
            [
             0.1111111111111111,
             "#46039f"
            ],
            [
             0.2222222222222222,
             "#7201a8"
            ],
            [
             0.3333333333333333,
             "#9c179e"
            ],
            [
             0.4444444444444444,
             "#bd3786"
            ],
            [
             0.5555555555555556,
             "#d8576b"
            ],
            [
             0.6666666666666666,
             "#ed7953"
            ],
            [
             0.7777777777777778,
             "#fb9f3a"
            ],
            [
             0.8888888888888888,
             "#fdca26"
            ],
            [
             1,
             "#f0f921"
            ]
           ]
          },
          "colorway": [
           "#636efa",
           "#EF553B",
           "#00cc96",
           "#ab63fa",
           "#FFA15A",
           "#19d3f3",
           "#FF6692",
           "#B6E880",
           "#FF97FF",
           "#FECB52"
          ],
          "font": {
           "color": "#2a3f5f"
          },
          "geo": {
           "bgcolor": "white",
           "lakecolor": "white",
           "landcolor": "#E5ECF6",
           "showlakes": true,
           "showland": true,
           "subunitcolor": "white"
          },
          "hoverlabel": {
           "align": "left"
          },
          "hovermode": "closest",
          "mapbox": {
           "style": "light"
          },
          "paper_bgcolor": "white",
          "plot_bgcolor": "#E5ECF6",
          "polar": {
           "angularaxis": {
            "gridcolor": "white",
            "linecolor": "white",
            "ticks": ""
           },
           "bgcolor": "#E5ECF6",
           "radialaxis": {
            "gridcolor": "white",
            "linecolor": "white",
            "ticks": ""
           }
          },
          "scene": {
           "xaxis": {
            "backgroundcolor": "#E5ECF6",
            "gridcolor": "white",
            "gridwidth": 2,
            "linecolor": "white",
            "showbackground": true,
            "ticks": "",
            "zerolinecolor": "white"
           },
           "yaxis": {
            "backgroundcolor": "#E5ECF6",
            "gridcolor": "white",
            "gridwidth": 2,
            "linecolor": "white",
            "showbackground": true,
            "ticks": "",
            "zerolinecolor": "white"
           },
           "zaxis": {
            "backgroundcolor": "#E5ECF6",
            "gridcolor": "white",
            "gridwidth": 2,
            "linecolor": "white",
            "showbackground": true,
            "ticks": "",
            "zerolinecolor": "white"
           }
          },
          "shapedefaults": {
           "line": {
            "color": "#2a3f5f"
           }
          },
          "ternary": {
           "aaxis": {
            "gridcolor": "white",
            "linecolor": "white",
            "ticks": ""
           },
           "baxis": {
            "gridcolor": "white",
            "linecolor": "white",
            "ticks": ""
           },
           "bgcolor": "#E5ECF6",
           "caxis": {
            "gridcolor": "white",
            "linecolor": "white",
            "ticks": ""
           }
          },
          "title": {
           "x": 0.05
          },
          "xaxis": {
           "automargin": true,
           "gridcolor": "white",
           "linecolor": "white",
           "ticks": "",
           "title": {
            "standoff": 15
           },
           "zerolinecolor": "white",
           "zerolinewidth": 2
          },
          "yaxis": {
           "automargin": true,
           "gridcolor": "white",
           "linecolor": "white",
           "ticks": "",
           "title": {
            "standoff": 15
           },
           "zerolinecolor": "white",
           "zerolinewidth": 2
          }
         }
        },
        "title": {
         "text": "YOLOv5l mAP"
        },
        "xaxis": {
         "title": {
          "text": "Epoch"
         }
        },
        "yaxis": {
         "range": [
          0,
          1
         ],
         "title": {
          "text": "Mean Average Precision"
         }
        }
       }
      }
     },
     "metadata": {},
     "output_type": "display_data"
    }
   ],
   "source": [
    "# Plot the mAP for IOU 0.5 and average 0.5-0.95\n",
    "fig = go.Figure()\n",
    "fig.add_trace(go.Scatter(   x=print(data['epoch']),\n",
    "                            y=data['metrics/mAP_0.5'],\n",
    "                            mode='lines',\n",
    "                            name='mAP@.5',\n",
    "                            line=dict(color='#DEA0FD', width=2)\n",
    "                        ))\n",
    "\n",
    "fig.add_trace(go.Scatter(   x=print(data['epoch']),\n",
    "                            y=data['metrics/mAP_0.5:0.95'],\n",
    "                            mode='lines',\n",
    "                            name='mAP@.5:.95',\n",
    "                            line=dict(color='#AA0DFE', width=2)\n",
    "                        ))\n",
    "\n",
    "fig.update_layout(\n",
    "    title_text='YOLOv5l mAP',\n",
    "    yaxis_title_text='Mean Average Precision',\n",
    "    xaxis_title_text='Epoch'\n",
    ")\n",
    "fig.update_yaxes(range=[0, 1.0])\n",
    "fig.show()"
   ]
  },
  {
   "cell_type": "code",
   "execution_count": 11,
   "metadata": {},
   "outputs": [
    {
     "name": "stdout",
     "output_type": "stream",
     "text": [
      "0      0\n",
      "1      1\n",
      "2      2\n",
      "3      3\n",
      "4      4\n",
      "      ..\n",
      "75    75\n",
      "76    76\n",
      "77    77\n",
      "78    78\n",
      "79    79\n",
      "Name: epoch, Length: 80, dtype: int64\n",
      "0      0\n",
      "1      1\n",
      "2      2\n",
      "3      3\n",
      "4      4\n",
      "      ..\n",
      "75    75\n",
      "76    76\n",
      "77    77\n",
      "78    78\n",
      "79    79\n",
      "Name: epoch, Length: 80, dtype: int64\n",
      "0      0\n",
      "1      1\n",
      "2      2\n",
      "3      3\n",
      "4      4\n",
      "      ..\n",
      "75    75\n",
      "76    76\n",
      "77    77\n",
      "78    78\n",
      "79    79\n",
      "Name: epoch, Length: 80, dtype: int64\n"
     ]
    },
    {
     "data": {
      "application/vnd.plotly.v1+json": {
       "config": {
        "plotlyServerURL": "https://plot.ly"
       },
       "data": [
        {
         "line": {
          "color": "#DEA0FD",
          "width": 2
         },
         "mode": "lines",
         "name": "Box loss",
         "type": "scatter",
         "y": [
          0.053426,
          0.044541,
          0.047377,
          0.044372,
          0.036165,
          0.036421,
          0.031942,
          0.029418,
          0.027327,
          0.025263,
          0.023217,
          0.021718,
          0.021385,
          0.01957,
          0.018951,
          0.017798,
          0.017129,
          0.016526,
          0.015878,
          0.015792,
          0.014973,
          0.014255,
          0.013936,
          0.013767,
          0.013235,
          0.01286,
          0.01241,
          0.012023,
          0.012016,
          0.011526,
          0.011191,
          0.01127,
          0.010899,
          0.010578,
          0.010328,
          0.010147,
          0.0098028,
          0.0097131,
          0.0095458,
          0.0093329,
          0.0092997,
          0.0090381,
          0.0088883,
          0.0089189,
          0.0087282,
          0.0085963,
          0.0084358,
          0.0082457,
          0.008049,
          0.0079418,
          0.0078334,
          0.0076761,
          0.007716,
          0.0075617,
          0.0074634,
          0.0073503,
          0.0072887,
          0.0072283,
          0.0070909,
          0.0069259,
          0.0069625,
          0.00682,
          0.0066969,
          0.0065588,
          0.0065393,
          0.0064639,
          0.0063951,
          0.0062981,
          0.0062192,
          0.0061587,
          0.0061245,
          0.0060508,
          0.0059999,
          0.005912,
          0.0058736,
          0.0058144,
          0.0057719,
          0.0057335,
          0.0057356,
          0.0056637
         ]
        },
        {
         "line": {
          "color": "#AA0DFE",
          "width": 2
         },
         "mode": "lines",
         "name": "Object loss",
         "type": "scatter",
         "y": [
          0.017952,
          0.014478,
          0.01418,
          0.013507,
          0.012021,
          0.011978,
          0.010709,
          0.0098139,
          0.0090977,
          0.0083855,
          0.0076866,
          0.0070689,
          0.0068449,
          0.0060822,
          0.0057254,
          0.0056313,
          0.0054059,
          0.0051276,
          0.0049251,
          0.0048004,
          0.0045352,
          0.0042104,
          0.0041427,
          0.0042112,
          0.0039944,
          0.0037701,
          0.0036566,
          0.0034659,
          0.003516,
          0.0033762,
          0.0032963,
          0.0033101,
          0.0031931,
          0.0030791,
          0.0030298,
          0.0029687,
          0.0028425,
          0.0028299,
          0.0027867,
          0.0027392,
          0.0026629,
          0.0025795,
          0.0025789,
          0.0025403,
          0.0025128,
          0.0024824,
          0.0024148,
          0.0024016,
          0.0022621,
          0.0022522,
          0.0022303,
          0.0021987,
          0.0022166,
          0.0021631,
          0.0021226,
          0.0020957,
          0.00208,
          0.0020777,
          0.002008,
          0.0019644,
          0.0019792,
          0.0019401,
          0.0019201,
          0.0018635,
          0.0018679,
          0.0018389,
          0.0018273,
          0.0017658,
          0.0017618,
          0.0017484,
          0.0017228,
          0.0017022,
          0.0016868,
          0.001663,
          0.0016393,
          0.0016172,
          0.0016022,
          0.0015873,
          0.0015805,
          0.0015613
         ]
        },
        {
         "line": {
          "color": "#782AB6",
          "width": 2
         },
         "mode": "lines",
         "name": "Class loss",
         "type": "scatter",
         "y": [
          0,
          0,
          0,
          0,
          0,
          0,
          0,
          0,
          0,
          0,
          0,
          0,
          0,
          0,
          0,
          0,
          0,
          0,
          0,
          0,
          0,
          0,
          0,
          0,
          0,
          0,
          0,
          0,
          0,
          0,
          0,
          0,
          0,
          0,
          0,
          0,
          0,
          0,
          0,
          0,
          0,
          0,
          0,
          0,
          0,
          0,
          0,
          0,
          0,
          0,
          0,
          0,
          0,
          0,
          0,
          0,
          0,
          0,
          0,
          0,
          0,
          0,
          0,
          0,
          0,
          0,
          0,
          0,
          0,
          0,
          0,
          0,
          0,
          0,
          0,
          0,
          0,
          0,
          0,
          0
         ]
        }
       ],
       "layout": {
        "template": {
         "data": {
          "bar": [
           {
            "error_x": {
             "color": "#2a3f5f"
            },
            "error_y": {
             "color": "#2a3f5f"
            },
            "marker": {
             "line": {
              "color": "#E5ECF6",
              "width": 0.5
             },
             "pattern": {
              "fillmode": "overlay",
              "size": 10,
              "solidity": 0.2
             }
            },
            "type": "bar"
           }
          ],
          "barpolar": [
           {
            "marker": {
             "line": {
              "color": "#E5ECF6",
              "width": 0.5
             },
             "pattern": {
              "fillmode": "overlay",
              "size": 10,
              "solidity": 0.2
             }
            },
            "type": "barpolar"
           }
          ],
          "carpet": [
           {
            "aaxis": {
             "endlinecolor": "#2a3f5f",
             "gridcolor": "white",
             "linecolor": "white",
             "minorgridcolor": "white",
             "startlinecolor": "#2a3f5f"
            },
            "baxis": {
             "endlinecolor": "#2a3f5f",
             "gridcolor": "white",
             "linecolor": "white",
             "minorgridcolor": "white",
             "startlinecolor": "#2a3f5f"
            },
            "type": "carpet"
           }
          ],
          "choropleth": [
           {
            "colorbar": {
             "outlinewidth": 0,
             "ticks": ""
            },
            "type": "choropleth"
           }
          ],
          "contour": [
           {
            "colorbar": {
             "outlinewidth": 0,
             "ticks": ""
            },
            "colorscale": [
             [
              0,
              "#0d0887"
             ],
             [
              0.1111111111111111,
              "#46039f"
             ],
             [
              0.2222222222222222,
              "#7201a8"
             ],
             [
              0.3333333333333333,
              "#9c179e"
             ],
             [
              0.4444444444444444,
              "#bd3786"
             ],
             [
              0.5555555555555556,
              "#d8576b"
             ],
             [
              0.6666666666666666,
              "#ed7953"
             ],
             [
              0.7777777777777778,
              "#fb9f3a"
             ],
             [
              0.8888888888888888,
              "#fdca26"
             ],
             [
              1,
              "#f0f921"
             ]
            ],
            "type": "contour"
           }
          ],
          "contourcarpet": [
           {
            "colorbar": {
             "outlinewidth": 0,
             "ticks": ""
            },
            "type": "contourcarpet"
           }
          ],
          "heatmap": [
           {
            "colorbar": {
             "outlinewidth": 0,
             "ticks": ""
            },
            "colorscale": [
             [
              0,
              "#0d0887"
             ],
             [
              0.1111111111111111,
              "#46039f"
             ],
             [
              0.2222222222222222,
              "#7201a8"
             ],
             [
              0.3333333333333333,
              "#9c179e"
             ],
             [
              0.4444444444444444,
              "#bd3786"
             ],
             [
              0.5555555555555556,
              "#d8576b"
             ],
             [
              0.6666666666666666,
              "#ed7953"
             ],
             [
              0.7777777777777778,
              "#fb9f3a"
             ],
             [
              0.8888888888888888,
              "#fdca26"
             ],
             [
              1,
              "#f0f921"
             ]
            ],
            "type": "heatmap"
           }
          ],
          "heatmapgl": [
           {
            "colorbar": {
             "outlinewidth": 0,
             "ticks": ""
            },
            "colorscale": [
             [
              0,
              "#0d0887"
             ],
             [
              0.1111111111111111,
              "#46039f"
             ],
             [
              0.2222222222222222,
              "#7201a8"
             ],
             [
              0.3333333333333333,
              "#9c179e"
             ],
             [
              0.4444444444444444,
              "#bd3786"
             ],
             [
              0.5555555555555556,
              "#d8576b"
             ],
             [
              0.6666666666666666,
              "#ed7953"
             ],
             [
              0.7777777777777778,
              "#fb9f3a"
             ],
             [
              0.8888888888888888,
              "#fdca26"
             ],
             [
              1,
              "#f0f921"
             ]
            ],
            "type": "heatmapgl"
           }
          ],
          "histogram": [
           {
            "marker": {
             "pattern": {
              "fillmode": "overlay",
              "size": 10,
              "solidity": 0.2
             }
            },
            "type": "histogram"
           }
          ],
          "histogram2d": [
           {
            "colorbar": {
             "outlinewidth": 0,
             "ticks": ""
            },
            "colorscale": [
             [
              0,
              "#0d0887"
             ],
             [
              0.1111111111111111,
              "#46039f"
             ],
             [
              0.2222222222222222,
              "#7201a8"
             ],
             [
              0.3333333333333333,
              "#9c179e"
             ],
             [
              0.4444444444444444,
              "#bd3786"
             ],
             [
              0.5555555555555556,
              "#d8576b"
             ],
             [
              0.6666666666666666,
              "#ed7953"
             ],
             [
              0.7777777777777778,
              "#fb9f3a"
             ],
             [
              0.8888888888888888,
              "#fdca26"
             ],
             [
              1,
              "#f0f921"
             ]
            ],
            "type": "histogram2d"
           }
          ],
          "histogram2dcontour": [
           {
            "colorbar": {
             "outlinewidth": 0,
             "ticks": ""
            },
            "colorscale": [
             [
              0,
              "#0d0887"
             ],
             [
              0.1111111111111111,
              "#46039f"
             ],
             [
              0.2222222222222222,
              "#7201a8"
             ],
             [
              0.3333333333333333,
              "#9c179e"
             ],
             [
              0.4444444444444444,
              "#bd3786"
             ],
             [
              0.5555555555555556,
              "#d8576b"
             ],
             [
              0.6666666666666666,
              "#ed7953"
             ],
             [
              0.7777777777777778,
              "#fb9f3a"
             ],
             [
              0.8888888888888888,
              "#fdca26"
             ],
             [
              1,
              "#f0f921"
             ]
            ],
            "type": "histogram2dcontour"
           }
          ],
          "mesh3d": [
           {
            "colorbar": {
             "outlinewidth": 0,
             "ticks": ""
            },
            "type": "mesh3d"
           }
          ],
          "parcoords": [
           {
            "line": {
             "colorbar": {
              "outlinewidth": 0,
              "ticks": ""
             }
            },
            "type": "parcoords"
           }
          ],
          "pie": [
           {
            "automargin": true,
            "type": "pie"
           }
          ],
          "scatter": [
           {
            "fillpattern": {
             "fillmode": "overlay",
             "size": 10,
             "solidity": 0.2
            },
            "type": "scatter"
           }
          ],
          "scatter3d": [
           {
            "line": {
             "colorbar": {
              "outlinewidth": 0,
              "ticks": ""
             }
            },
            "marker": {
             "colorbar": {
              "outlinewidth": 0,
              "ticks": ""
             }
            },
            "type": "scatter3d"
           }
          ],
          "scattercarpet": [
           {
            "marker": {
             "colorbar": {
              "outlinewidth": 0,
              "ticks": ""
             }
            },
            "type": "scattercarpet"
           }
          ],
          "scattergeo": [
           {
            "marker": {
             "colorbar": {
              "outlinewidth": 0,
              "ticks": ""
             }
            },
            "type": "scattergeo"
           }
          ],
          "scattergl": [
           {
            "marker": {
             "colorbar": {
              "outlinewidth": 0,
              "ticks": ""
             }
            },
            "type": "scattergl"
           }
          ],
          "scattermapbox": [
           {
            "marker": {
             "colorbar": {
              "outlinewidth": 0,
              "ticks": ""
             }
            },
            "type": "scattermapbox"
           }
          ],
          "scatterpolar": [
           {
            "marker": {
             "colorbar": {
              "outlinewidth": 0,
              "ticks": ""
             }
            },
            "type": "scatterpolar"
           }
          ],
          "scatterpolargl": [
           {
            "marker": {
             "colorbar": {
              "outlinewidth": 0,
              "ticks": ""
             }
            },
            "type": "scatterpolargl"
           }
          ],
          "scatterternary": [
           {
            "marker": {
             "colorbar": {
              "outlinewidth": 0,
              "ticks": ""
             }
            },
            "type": "scatterternary"
           }
          ],
          "surface": [
           {
            "colorbar": {
             "outlinewidth": 0,
             "ticks": ""
            },
            "colorscale": [
             [
              0,
              "#0d0887"
             ],
             [
              0.1111111111111111,
              "#46039f"
             ],
             [
              0.2222222222222222,
              "#7201a8"
             ],
             [
              0.3333333333333333,
              "#9c179e"
             ],
             [
              0.4444444444444444,
              "#bd3786"
             ],
             [
              0.5555555555555556,
              "#d8576b"
             ],
             [
              0.6666666666666666,
              "#ed7953"
             ],
             [
              0.7777777777777778,
              "#fb9f3a"
             ],
             [
              0.8888888888888888,
              "#fdca26"
             ],
             [
              1,
              "#f0f921"
             ]
            ],
            "type": "surface"
           }
          ],
          "table": [
           {
            "cells": {
             "fill": {
              "color": "#EBF0F8"
             },
             "line": {
              "color": "white"
             }
            },
            "header": {
             "fill": {
              "color": "#C8D4E3"
             },
             "line": {
              "color": "white"
             }
            },
            "type": "table"
           }
          ]
         },
         "layout": {
          "annotationdefaults": {
           "arrowcolor": "#2a3f5f",
           "arrowhead": 0,
           "arrowwidth": 1
          },
          "autotypenumbers": "strict",
          "coloraxis": {
           "colorbar": {
            "outlinewidth": 0,
            "ticks": ""
           }
          },
          "colorscale": {
           "diverging": [
            [
             0,
             "#8e0152"
            ],
            [
             0.1,
             "#c51b7d"
            ],
            [
             0.2,
             "#de77ae"
            ],
            [
             0.3,
             "#f1b6da"
            ],
            [
             0.4,
             "#fde0ef"
            ],
            [
             0.5,
             "#f7f7f7"
            ],
            [
             0.6,
             "#e6f5d0"
            ],
            [
             0.7,
             "#b8e186"
            ],
            [
             0.8,
             "#7fbc41"
            ],
            [
             0.9,
             "#4d9221"
            ],
            [
             1,
             "#276419"
            ]
           ],
           "sequential": [
            [
             0,
             "#0d0887"
            ],
            [
             0.1111111111111111,
             "#46039f"
            ],
            [
             0.2222222222222222,
             "#7201a8"
            ],
            [
             0.3333333333333333,
             "#9c179e"
            ],
            [
             0.4444444444444444,
             "#bd3786"
            ],
            [
             0.5555555555555556,
             "#d8576b"
            ],
            [
             0.6666666666666666,
             "#ed7953"
            ],
            [
             0.7777777777777778,
             "#fb9f3a"
            ],
            [
             0.8888888888888888,
             "#fdca26"
            ],
            [
             1,
             "#f0f921"
            ]
           ],
           "sequentialminus": [
            [
             0,
             "#0d0887"
            ],
            [
             0.1111111111111111,
             "#46039f"
            ],
            [
             0.2222222222222222,
             "#7201a8"
            ],
            [
             0.3333333333333333,
             "#9c179e"
            ],
            [
             0.4444444444444444,
             "#bd3786"
            ],
            [
             0.5555555555555556,
             "#d8576b"
            ],
            [
             0.6666666666666666,
             "#ed7953"
            ],
            [
             0.7777777777777778,
             "#fb9f3a"
            ],
            [
             0.8888888888888888,
             "#fdca26"
            ],
            [
             1,
             "#f0f921"
            ]
           ]
          },
          "colorway": [
           "#636efa",
           "#EF553B",
           "#00cc96",
           "#ab63fa",
           "#FFA15A",
           "#19d3f3",
           "#FF6692",
           "#B6E880",
           "#FF97FF",
           "#FECB52"
          ],
          "font": {
           "color": "#2a3f5f"
          },
          "geo": {
           "bgcolor": "white",
           "lakecolor": "white",
           "landcolor": "#E5ECF6",
           "showlakes": true,
           "showland": true,
           "subunitcolor": "white"
          },
          "hoverlabel": {
           "align": "left"
          },
          "hovermode": "closest",
          "mapbox": {
           "style": "light"
          },
          "paper_bgcolor": "white",
          "plot_bgcolor": "#E5ECF6",
          "polar": {
           "angularaxis": {
            "gridcolor": "white",
            "linecolor": "white",
            "ticks": ""
           },
           "bgcolor": "#E5ECF6",
           "radialaxis": {
            "gridcolor": "white",
            "linecolor": "white",
            "ticks": ""
           }
          },
          "scene": {
           "xaxis": {
            "backgroundcolor": "#E5ECF6",
            "gridcolor": "white",
            "gridwidth": 2,
            "linecolor": "white",
            "showbackground": true,
            "ticks": "",
            "zerolinecolor": "white"
           },
           "yaxis": {
            "backgroundcolor": "#E5ECF6",
            "gridcolor": "white",
            "gridwidth": 2,
            "linecolor": "white",
            "showbackground": true,
            "ticks": "",
            "zerolinecolor": "white"
           },
           "zaxis": {
            "backgroundcolor": "#E5ECF6",
            "gridcolor": "white",
            "gridwidth": 2,
            "linecolor": "white",
            "showbackground": true,
            "ticks": "",
            "zerolinecolor": "white"
           }
          },
          "shapedefaults": {
           "line": {
            "color": "#2a3f5f"
           }
          },
          "ternary": {
           "aaxis": {
            "gridcolor": "white",
            "linecolor": "white",
            "ticks": ""
           },
           "baxis": {
            "gridcolor": "white",
            "linecolor": "white",
            "ticks": ""
           },
           "bgcolor": "#E5ECF6",
           "caxis": {
            "gridcolor": "white",
            "linecolor": "white",
            "ticks": ""
           }
          },
          "title": {
           "x": 0.05
          },
          "xaxis": {
           "automargin": true,
           "gridcolor": "white",
           "linecolor": "white",
           "ticks": "",
           "title": {
            "standoff": 15
           },
           "zerolinecolor": "white",
           "zerolinewidth": 2
          },
          "yaxis": {
           "automargin": true,
           "gridcolor": "white",
           "linecolor": "white",
           "ticks": "",
           "title": {
            "standoff": 15
           },
           "zerolinecolor": "white",
           "zerolinewidth": 2
          }
         }
        },
        "title": {
         "text": "YOLOv5l loss"
        },
        "xaxis": {
         "title": {
          "text": "Epoch"
         }
        },
        "yaxis": {
         "title": {
          "text": "Loss"
         }
        }
       }
      }
     },
     "metadata": {},
     "output_type": "display_data"
    }
   ],
   "source": [
    "# Plot the box loss, object loss and classification loss of the validation set\n",
    "fig = go.Figure()\n",
    "fig.add_trace(go.Scatter(   x=print(data['epoch']),\n",
    "                            y=data['val/box_loss'],\n",
    "                            mode='lines',\n",
    "                            name='Box loss',\n",
    "                            line=dict(color='#DEA0FD', width=2)\n",
    "                        ))\n",
    "\n",
    "fig.add_trace(go.Scatter(   x=print(data['epoch']),\n",
    "                            y=data['val/obj_loss'],\n",
    "                            mode='lines',\n",
    "                            name='Object loss',\n",
    "                            line=dict(color='#AA0DFE', width=2)\n",
    "                        ))\n",
    "\n",
    "fig.add_trace(go.Scatter(   x=print(data['epoch']),\n",
    "                            y=data['val/cls_loss'],\n",
    "                            mode='lines',\n",
    "                            name='Class loss',\n",
    "                            line=dict(color='#782AB6', width=2)\n",
    "                        ))\n",
    "\n",
    "fig.update_layout(\n",
    "    title_text='YOLOv5l loss',\n",
    "    yaxis_title_text='Loss',\n",
    "    xaxis_title_text='Epoch'\n",
    ")\n",
    "fig.show()"
   ]
  },
  {
   "cell_type": "code",
   "execution_count": 13,
   "metadata": {},
   "outputs": [],
   "source": [
    "# Function for F1-score\n",
    "def F1(precision, recall):\n",
    "    return 2 * ((precision * recall) / (precision + recall))"
   ]
  },
  {
   "cell_type": "code",
   "execution_count": 14,
   "metadata": {},
   "outputs": [
    {
     "name": "stdout",
     "output_type": "stream",
     "text": [
      "0      0\n",
      "1      1\n",
      "2      2\n",
      "3      3\n",
      "4      4\n",
      "      ..\n",
      "75    75\n",
      "76    76\n",
      "77    77\n",
      "78    78\n",
      "79    79\n",
      "Name: epoch, Length: 80, dtype: int64\n",
      "0      0\n",
      "1      1\n",
      "2      2\n",
      "3      3\n",
      "4      4\n",
      "      ..\n",
      "75    75\n",
      "76    76\n",
      "77    77\n",
      "78    78\n",
      "79    79\n",
      "Name: epoch, Length: 80, dtype: int64\n",
      "0      0\n",
      "1      1\n",
      "2      2\n",
      "3      3\n",
      "4      4\n",
      "      ..\n",
      "75    75\n",
      "76    76\n",
      "77    77\n",
      "78    78\n",
      "79    79\n",
      "Name: epoch, Length: 80, dtype: int64\n"
     ]
    },
    {
     "data": {
      "application/vnd.plotly.v1+json": {
       "config": {
        "plotlyServerURL": "https://plot.ly"
       },
       "data": [
        {
         "line": {
          "color": "#DEA0FD",
          "width": 2
         },
         "mode": "lines",
         "name": "Precision",
         "type": "scatter",
         "y": [
          0.52196,
          0.67941,
          0.66618,
          0.70933,
          0.77503,
          0.75106,
          0.81068,
          0.85165,
          0.87235,
          0.89214,
          0.90808,
          0.91351,
          0.93028,
          0.93582,
          0.9481,
          0.95084,
          0.95855,
          0.96315,
          0.97235,
          0.96889,
          0.97628,
          0.98074,
          0.97927,
          0.97253,
          0.9769,
          0.97984,
          0.9797,
          0.98303,
          0.98662,
          0.9835,
          0.98015,
          0.98349,
          0.98189,
          0.98599,
          0.98536,
          0.9808,
          0.98958,
          0.98086,
          0.98326,
          0.98655,
          0.98682,
          0.98505,
          0.98408,
          0.98822,
          0.99112,
          0.99178,
          0.98789,
          0.98543,
          0.98861,
          0.98942,
          0.99005,
          0.99047,
          0.98577,
          0.98553,
          0.9882,
          0.98827,
          0.99036,
          0.99282,
          0.99211,
          0.98877,
          0.9886,
          0.98652,
          0.98827,
          0.98888,
          0.98931,
          0.98924,
          0.98928,
          0.98724,
          0.98881,
          0.9896,
          0.98809,
          0.99122,
          0.98967,
          0.98967,
          0.99107,
          0.99072,
          0.99049,
          0.99108,
          0.99143,
          0.99052
         ]
        },
        {
         "line": {
          "color": "#AA0DFE",
          "width": 2
         },
         "mode": "lines",
         "name": "Recall",
         "type": "scatter",
         "y": [
          0.45915,
          0.61707,
          0.58056,
          0.60158,
          0.71597,
          0.69489,
          0.77635,
          0.8081,
          0.81546,
          0.85673,
          0.87887,
          0.91698,
          0.89425,
          0.93926,
          0.94319,
          0.93972,
          0.95011,
          0.95213,
          0.9549,
          0.95713,
          0.9557,
          0.95748,
          0.96892,
          0.96284,
          0.96694,
          0.97356,
          0.97606,
          0.97277,
          0.97488,
          0.97941,
          0.98178,
          0.97927,
          0.98392,
          0.98092,
          0.98321,
          0.98556,
          0.98106,
          0.98851,
          0.98656,
          0.98464,
          0.9895,
          0.98836,
          0.99143,
          0.98924,
          0.98571,
          0.99093,
          0.99094,
          0.99044,
          0.99178,
          0.99285,
          0.99035,
          0.99143,
          0.9925,
          0.9925,
          0.99214,
          0.99143,
          0.9911,
          0.98837,
          0.98774,
          0.99107,
          0.99179,
          0.99332,
          0.99214,
          0.99285,
          0.99175,
          0.99143,
          0.99107,
          0.99531,
          0.99285,
          0.99214,
          0.99357,
          0.99214,
          0.99271,
          0.99251,
          0.99151,
          0.99208,
          0.99178,
          0.99187,
          0.9922,
          0.99214
         ]
        },
        {
         "line": {
          "color": "#782AB6",
          "width": 2
         },
         "mode": "lines",
         "name": "F1",
         "type": "scatter",
         "y": [
          0.48854447309679855,
          0.6467412203813403,
          0.6204300187689493,
          0.6510267545445529,
          0.7443302871898054,
          0.7218839979252395,
          0.7931436935659691,
          0.8293036481397801,
          0.8429462214348772,
          0.8740765204960916,
          0.8932362624583788,
          0.9152417110172686,
          0.911909247861093,
          0.9375368445079676,
          0.9456386265459025,
          0.945247296885579,
          0.9543113393689814,
          0.9576082969591913,
          0.9635460007783111,
          0.9629740975690804,
          0.965880387995735,
          0.9689704318395229,
          0.974067507173325,
          0.9676607420803258,
          0.9718944830850276,
          0.9766899051909491,
          0.9778766126723115,
          0.9778730883525922,
          0.9807148667856233,
          0.9814507389539001,
          0.9809643228861376,
          0.9813754634290489,
          0.9829039518569954,
          0.9834484656644178,
          0.9842838259244019,
          0.9831742386948473,
          0.9853015820241141,
          0.984670141822004,
          0.9849072357880415,
          0.9855940746452649,
          0.9881581828853627,
          0.9867022240689974,
          0.9877413269484843,
          0.9887297369352603,
          0.9884075972137208,
          0.99135481779988,
          0.9894126494949036,
          0.9879286483422491,
          0.9901924628987221,
          0.9911320324678272,
          0.9901999772773177,
          0.9909497674958373,
          0.9891235523967911,
          0.9890027198778584,
          0.990166080572023,
          0.9898474780017175,
          0.9907298618190628,
          0.9905900023723115,
          0.9899201771851404,
          0.9899186640334573,
          0.9901924307838356,
          0.9899083222886698,
          0.9902012187375342,
          0.9908610234492086,
          0.9905284973700949,
          0.9903337892733267,
          0.9901741910268388,
          0.9912585754709843,
          0.9908258818364402,
          0.990868372238538,
          0.9908224229181595,
          0.9916797866247177,
          0.9911876690644579,
          0.9910879654723588,
          0.991289951174732,
          0.9913995335888641,
          0.9911345802539512,
          0.9914748426334501,
          0.9918148505517662,
          0.9913293381618633
         ]
        }
       ],
       "layout": {
        "template": {
         "data": {
          "bar": [
           {
            "error_x": {
             "color": "#2a3f5f"
            },
            "error_y": {
             "color": "#2a3f5f"
            },
            "marker": {
             "line": {
              "color": "#E5ECF6",
              "width": 0.5
             },
             "pattern": {
              "fillmode": "overlay",
              "size": 10,
              "solidity": 0.2
             }
            },
            "type": "bar"
           }
          ],
          "barpolar": [
           {
            "marker": {
             "line": {
              "color": "#E5ECF6",
              "width": 0.5
             },
             "pattern": {
              "fillmode": "overlay",
              "size": 10,
              "solidity": 0.2
             }
            },
            "type": "barpolar"
           }
          ],
          "carpet": [
           {
            "aaxis": {
             "endlinecolor": "#2a3f5f",
             "gridcolor": "white",
             "linecolor": "white",
             "minorgridcolor": "white",
             "startlinecolor": "#2a3f5f"
            },
            "baxis": {
             "endlinecolor": "#2a3f5f",
             "gridcolor": "white",
             "linecolor": "white",
             "minorgridcolor": "white",
             "startlinecolor": "#2a3f5f"
            },
            "type": "carpet"
           }
          ],
          "choropleth": [
           {
            "colorbar": {
             "outlinewidth": 0,
             "ticks": ""
            },
            "type": "choropleth"
           }
          ],
          "contour": [
           {
            "colorbar": {
             "outlinewidth": 0,
             "ticks": ""
            },
            "colorscale": [
             [
              0,
              "#0d0887"
             ],
             [
              0.1111111111111111,
              "#46039f"
             ],
             [
              0.2222222222222222,
              "#7201a8"
             ],
             [
              0.3333333333333333,
              "#9c179e"
             ],
             [
              0.4444444444444444,
              "#bd3786"
             ],
             [
              0.5555555555555556,
              "#d8576b"
             ],
             [
              0.6666666666666666,
              "#ed7953"
             ],
             [
              0.7777777777777778,
              "#fb9f3a"
             ],
             [
              0.8888888888888888,
              "#fdca26"
             ],
             [
              1,
              "#f0f921"
             ]
            ],
            "type": "contour"
           }
          ],
          "contourcarpet": [
           {
            "colorbar": {
             "outlinewidth": 0,
             "ticks": ""
            },
            "type": "contourcarpet"
           }
          ],
          "heatmap": [
           {
            "colorbar": {
             "outlinewidth": 0,
             "ticks": ""
            },
            "colorscale": [
             [
              0,
              "#0d0887"
             ],
             [
              0.1111111111111111,
              "#46039f"
             ],
             [
              0.2222222222222222,
              "#7201a8"
             ],
             [
              0.3333333333333333,
              "#9c179e"
             ],
             [
              0.4444444444444444,
              "#bd3786"
             ],
             [
              0.5555555555555556,
              "#d8576b"
             ],
             [
              0.6666666666666666,
              "#ed7953"
             ],
             [
              0.7777777777777778,
              "#fb9f3a"
             ],
             [
              0.8888888888888888,
              "#fdca26"
             ],
             [
              1,
              "#f0f921"
             ]
            ],
            "type": "heatmap"
           }
          ],
          "heatmapgl": [
           {
            "colorbar": {
             "outlinewidth": 0,
             "ticks": ""
            },
            "colorscale": [
             [
              0,
              "#0d0887"
             ],
             [
              0.1111111111111111,
              "#46039f"
             ],
             [
              0.2222222222222222,
              "#7201a8"
             ],
             [
              0.3333333333333333,
              "#9c179e"
             ],
             [
              0.4444444444444444,
              "#bd3786"
             ],
             [
              0.5555555555555556,
              "#d8576b"
             ],
             [
              0.6666666666666666,
              "#ed7953"
             ],
             [
              0.7777777777777778,
              "#fb9f3a"
             ],
             [
              0.8888888888888888,
              "#fdca26"
             ],
             [
              1,
              "#f0f921"
             ]
            ],
            "type": "heatmapgl"
           }
          ],
          "histogram": [
           {
            "marker": {
             "pattern": {
              "fillmode": "overlay",
              "size": 10,
              "solidity": 0.2
             }
            },
            "type": "histogram"
           }
          ],
          "histogram2d": [
           {
            "colorbar": {
             "outlinewidth": 0,
             "ticks": ""
            },
            "colorscale": [
             [
              0,
              "#0d0887"
             ],
             [
              0.1111111111111111,
              "#46039f"
             ],
             [
              0.2222222222222222,
              "#7201a8"
             ],
             [
              0.3333333333333333,
              "#9c179e"
             ],
             [
              0.4444444444444444,
              "#bd3786"
             ],
             [
              0.5555555555555556,
              "#d8576b"
             ],
             [
              0.6666666666666666,
              "#ed7953"
             ],
             [
              0.7777777777777778,
              "#fb9f3a"
             ],
             [
              0.8888888888888888,
              "#fdca26"
             ],
             [
              1,
              "#f0f921"
             ]
            ],
            "type": "histogram2d"
           }
          ],
          "histogram2dcontour": [
           {
            "colorbar": {
             "outlinewidth": 0,
             "ticks": ""
            },
            "colorscale": [
             [
              0,
              "#0d0887"
             ],
             [
              0.1111111111111111,
              "#46039f"
             ],
             [
              0.2222222222222222,
              "#7201a8"
             ],
             [
              0.3333333333333333,
              "#9c179e"
             ],
             [
              0.4444444444444444,
              "#bd3786"
             ],
             [
              0.5555555555555556,
              "#d8576b"
             ],
             [
              0.6666666666666666,
              "#ed7953"
             ],
             [
              0.7777777777777778,
              "#fb9f3a"
             ],
             [
              0.8888888888888888,
              "#fdca26"
             ],
             [
              1,
              "#f0f921"
             ]
            ],
            "type": "histogram2dcontour"
           }
          ],
          "mesh3d": [
           {
            "colorbar": {
             "outlinewidth": 0,
             "ticks": ""
            },
            "type": "mesh3d"
           }
          ],
          "parcoords": [
           {
            "line": {
             "colorbar": {
              "outlinewidth": 0,
              "ticks": ""
             }
            },
            "type": "parcoords"
           }
          ],
          "pie": [
           {
            "automargin": true,
            "type": "pie"
           }
          ],
          "scatter": [
           {
            "fillpattern": {
             "fillmode": "overlay",
             "size": 10,
             "solidity": 0.2
            },
            "type": "scatter"
           }
          ],
          "scatter3d": [
           {
            "line": {
             "colorbar": {
              "outlinewidth": 0,
              "ticks": ""
             }
            },
            "marker": {
             "colorbar": {
              "outlinewidth": 0,
              "ticks": ""
             }
            },
            "type": "scatter3d"
           }
          ],
          "scattercarpet": [
           {
            "marker": {
             "colorbar": {
              "outlinewidth": 0,
              "ticks": ""
             }
            },
            "type": "scattercarpet"
           }
          ],
          "scattergeo": [
           {
            "marker": {
             "colorbar": {
              "outlinewidth": 0,
              "ticks": ""
             }
            },
            "type": "scattergeo"
           }
          ],
          "scattergl": [
           {
            "marker": {
             "colorbar": {
              "outlinewidth": 0,
              "ticks": ""
             }
            },
            "type": "scattergl"
           }
          ],
          "scattermapbox": [
           {
            "marker": {
             "colorbar": {
              "outlinewidth": 0,
              "ticks": ""
             }
            },
            "type": "scattermapbox"
           }
          ],
          "scatterpolar": [
           {
            "marker": {
             "colorbar": {
              "outlinewidth": 0,
              "ticks": ""
             }
            },
            "type": "scatterpolar"
           }
          ],
          "scatterpolargl": [
           {
            "marker": {
             "colorbar": {
              "outlinewidth": 0,
              "ticks": ""
             }
            },
            "type": "scatterpolargl"
           }
          ],
          "scatterternary": [
           {
            "marker": {
             "colorbar": {
              "outlinewidth": 0,
              "ticks": ""
             }
            },
            "type": "scatterternary"
           }
          ],
          "surface": [
           {
            "colorbar": {
             "outlinewidth": 0,
             "ticks": ""
            },
            "colorscale": [
             [
              0,
              "#0d0887"
             ],
             [
              0.1111111111111111,
              "#46039f"
             ],
             [
              0.2222222222222222,
              "#7201a8"
             ],
             [
              0.3333333333333333,
              "#9c179e"
             ],
             [
              0.4444444444444444,
              "#bd3786"
             ],
             [
              0.5555555555555556,
              "#d8576b"
             ],
             [
              0.6666666666666666,
              "#ed7953"
             ],
             [
              0.7777777777777778,
              "#fb9f3a"
             ],
             [
              0.8888888888888888,
              "#fdca26"
             ],
             [
              1,
              "#f0f921"
             ]
            ],
            "type": "surface"
           }
          ],
          "table": [
           {
            "cells": {
             "fill": {
              "color": "#EBF0F8"
             },
             "line": {
              "color": "white"
             }
            },
            "header": {
             "fill": {
              "color": "#C8D4E3"
             },
             "line": {
              "color": "white"
             }
            },
            "type": "table"
           }
          ]
         },
         "layout": {
          "annotationdefaults": {
           "arrowcolor": "#2a3f5f",
           "arrowhead": 0,
           "arrowwidth": 1
          },
          "autotypenumbers": "strict",
          "coloraxis": {
           "colorbar": {
            "outlinewidth": 0,
            "ticks": ""
           }
          },
          "colorscale": {
           "diverging": [
            [
             0,
             "#8e0152"
            ],
            [
             0.1,
             "#c51b7d"
            ],
            [
             0.2,
             "#de77ae"
            ],
            [
             0.3,
             "#f1b6da"
            ],
            [
             0.4,
             "#fde0ef"
            ],
            [
             0.5,
             "#f7f7f7"
            ],
            [
             0.6,
             "#e6f5d0"
            ],
            [
             0.7,
             "#b8e186"
            ],
            [
             0.8,
             "#7fbc41"
            ],
            [
             0.9,
             "#4d9221"
            ],
            [
             1,
             "#276419"
            ]
           ],
           "sequential": [
            [
             0,
             "#0d0887"
            ],
            [
             0.1111111111111111,
             "#46039f"
            ],
            [
             0.2222222222222222,
             "#7201a8"
            ],
            [
             0.3333333333333333,
             "#9c179e"
            ],
            [
             0.4444444444444444,
             "#bd3786"
            ],
            [
             0.5555555555555556,
             "#d8576b"
            ],
            [
             0.6666666666666666,
             "#ed7953"
            ],
            [
             0.7777777777777778,
             "#fb9f3a"
            ],
            [
             0.8888888888888888,
             "#fdca26"
            ],
            [
             1,
             "#f0f921"
            ]
           ],
           "sequentialminus": [
            [
             0,
             "#0d0887"
            ],
            [
             0.1111111111111111,
             "#46039f"
            ],
            [
             0.2222222222222222,
             "#7201a8"
            ],
            [
             0.3333333333333333,
             "#9c179e"
            ],
            [
             0.4444444444444444,
             "#bd3786"
            ],
            [
             0.5555555555555556,
             "#d8576b"
            ],
            [
             0.6666666666666666,
             "#ed7953"
            ],
            [
             0.7777777777777778,
             "#fb9f3a"
            ],
            [
             0.8888888888888888,
             "#fdca26"
            ],
            [
             1,
             "#f0f921"
            ]
           ]
          },
          "colorway": [
           "#636efa",
           "#EF553B",
           "#00cc96",
           "#ab63fa",
           "#FFA15A",
           "#19d3f3",
           "#FF6692",
           "#B6E880",
           "#FF97FF",
           "#FECB52"
          ],
          "font": {
           "color": "#2a3f5f"
          },
          "geo": {
           "bgcolor": "white",
           "lakecolor": "white",
           "landcolor": "#E5ECF6",
           "showlakes": true,
           "showland": true,
           "subunitcolor": "white"
          },
          "hoverlabel": {
           "align": "left"
          },
          "hovermode": "closest",
          "mapbox": {
           "style": "light"
          },
          "paper_bgcolor": "white",
          "plot_bgcolor": "#E5ECF6",
          "polar": {
           "angularaxis": {
            "gridcolor": "white",
            "linecolor": "white",
            "ticks": ""
           },
           "bgcolor": "#E5ECF6",
           "radialaxis": {
            "gridcolor": "white",
            "linecolor": "white",
            "ticks": ""
           }
          },
          "scene": {
           "xaxis": {
            "backgroundcolor": "#E5ECF6",
            "gridcolor": "white",
            "gridwidth": 2,
            "linecolor": "white",
            "showbackground": true,
            "ticks": "",
            "zerolinecolor": "white"
           },
           "yaxis": {
            "backgroundcolor": "#E5ECF6",
            "gridcolor": "white",
            "gridwidth": 2,
            "linecolor": "white",
            "showbackground": true,
            "ticks": "",
            "zerolinecolor": "white"
           },
           "zaxis": {
            "backgroundcolor": "#E5ECF6",
            "gridcolor": "white",
            "gridwidth": 2,
            "linecolor": "white",
            "showbackground": true,
            "ticks": "",
            "zerolinecolor": "white"
           }
          },
          "shapedefaults": {
           "line": {
            "color": "#2a3f5f"
           }
          },
          "ternary": {
           "aaxis": {
            "gridcolor": "white",
            "linecolor": "white",
            "ticks": ""
           },
           "baxis": {
            "gridcolor": "white",
            "linecolor": "white",
            "ticks": ""
           },
           "bgcolor": "#E5ECF6",
           "caxis": {
            "gridcolor": "white",
            "linecolor": "white",
            "ticks": ""
           }
          },
          "title": {
           "x": 0.05
          },
          "xaxis": {
           "automargin": true,
           "gridcolor": "white",
           "linecolor": "white",
           "ticks": "",
           "title": {
            "standoff": 15
           },
           "zerolinecolor": "white",
           "zerolinewidth": 2
          },
          "yaxis": {
           "automargin": true,
           "gridcolor": "white",
           "linecolor": "white",
           "ticks": "",
           "title": {
            "standoff": 15
           },
           "zerolinecolor": "white",
           "zerolinewidth": 2
          }
         }
        },
        "title": {
         "text": "YOLOv5s precision, recall and F1 augmented training"
        },
        "xaxis": {
         "title": {
          "text": "Epoch"
         }
        },
        "yaxis": {
         "title": {
          "text": "Score"
         }
        }
       }
      }
     },
     "metadata": {},
     "output_type": "display_data"
    }
   ],
   "source": [
    "# Plot the precision, recall and F1 score\n",
    "F1_scores = [F1(data['metrics/recall'][i], data['metrics/precision'][i]) for i in range(len(data['epoch']))]\n",
    "\n",
    "fig = go.Figure()\n",
    "fig.add_trace(go.Scatter(   x=print(data['epoch']),\n",
    "                            y=data['metrics/precision'],\n",
    "                            mode='lines',\n",
    "                            name='Precision',\n",
    "                            line=dict(color='#DEA0FD', width=2)\n",
    "                        ))\n",
    "\n",
    "fig.add_trace(go.Scatter(   x=print(data['epoch']),\n",
    "                            y=data['metrics/recall'],\n",
    "                            mode='lines',\n",
    "                            name='Recall',\n",
    "                            line=dict(color='#AA0DFE', width=2)\n",
    "                        ))\n",
    "\n",
    "fig.add_trace(go.Scatter(   x=print(data['epoch']),\n",
    "                            y=F1_scores,\n",
    "                            mode='lines',\n",
    "                            name='F1',\n",
    "                            line=dict(color='#782AB6', width=2)\n",
    "                        ))\n",
    "\n",
    "fig.update_layout(\n",
    "    title_text='YOLOv5s precision, recall and F1 augmented training',\n",
    "    yaxis_title_text='Score',\n",
    "    xaxis_title_text='Epoch'\n",
    ")\n",
    "fig.show()"
   ]
  },
  {
   "cell_type": "code",
   "execution_count": 16,
   "metadata": {},
   "outputs": [
    {
     "name": "stdout",
     "output_type": "stream",
     "text": [
      "mAP@.5: 0.99475 \n",
      "mAP@.5:.95: 0.96465 \n",
      "recall: 0.9922 \n",
      "precision: 0.99143\n"
     ]
    }
   ],
   "source": [
    "# Get the precision, recall, mAP scores for the epoch with the highest F1 score\n",
    "F1_max_index = np.argmax(F1_scores)\n",
    "max_recall = data['metrics/recall'][F1_max_index]\n",
    "max_precision = data['metrics/precision'][F1_max_index]\n",
    "max_mAP5 = data['metrics/mAP_0.5'][F1_max_index]\n",
    "max_mAP595 = data['metrics/mAP_0.5:0.95'][F1_max_index]\n",
    "print(\"mAP@.5:\", max_mAP5, \"\\nmAP@.5:.95:\", max_mAP595, \"\\nrecall:\", max_recall, \"\\nprecision:\", max_precision)"
   ]
  }
 ],
 "metadata": {
  "kernelspec": {
   "display_name": "thesis",
   "language": "python",
   "name": "python3"
  },
  "language_info": {
   "codemirror_mode": {
    "name": "ipython",
    "version": 3
   },
   "file_extension": ".py",
   "mimetype": "text/x-python",
   "name": "python",
   "nbconvert_exporter": "python",
   "pygments_lexer": "ipython3",
   "version": "3.9.15"
  },
  "orig_nbformat": 4,
  "vscode": {
   "interpreter": {
    "hash": "5cb2f0ed5fa6c4f2cdf5f44b897e11a60b10ecfd1f971acd27850fee5e420b7e"
   }
  }
 },
 "nbformat": 4,
 "nbformat_minor": 2
}
